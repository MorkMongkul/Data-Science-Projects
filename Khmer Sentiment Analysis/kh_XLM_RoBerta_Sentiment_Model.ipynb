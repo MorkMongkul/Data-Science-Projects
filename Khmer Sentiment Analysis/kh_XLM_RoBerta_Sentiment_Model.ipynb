{
  "nbformat": 4,
  "nbformat_minor": 0,
  "metadata": {
    "colab": {
      "provenance": [],
      "gpuType": "T4"
    },
    "kernelspec": {
      "name": "python3",
      "display_name": "Python 3"
    },
    "language_info": {
      "name": "python"
    },
    "accelerator": "GPU",
    "widgets": {
      "application/vnd.jupyter.widget-state+json": {
        "9c4f49dfa69346da81f67ff9010e693b": {
          "model_module": "@jupyter-widgets/controls",
          "model_name": "HBoxModel",
          "model_module_version": "1.5.0",
          "state": {
            "_dom_classes": [],
            "_model_module": "@jupyter-widgets/controls",
            "_model_module_version": "1.5.0",
            "_model_name": "HBoxModel",
            "_view_count": null,
            "_view_module": "@jupyter-widgets/controls",
            "_view_module_version": "1.5.0",
            "_view_name": "HBoxView",
            "box_style": "",
            "children": [
              "IPY_MODEL_f9687fd162a6489c985d2315e8acaa12",
              "IPY_MODEL_ec326eac1469485b8e3a2f7bf4c95632",
              "IPY_MODEL_83efda734bef4ffe8f2047b07f28e34c"
            ],
            "layout": "IPY_MODEL_1bbe3ca9162b4c32903f92d428b9edf2"
          }
        },
        "f9687fd162a6489c985d2315e8acaa12": {
          "model_module": "@jupyter-widgets/controls",
          "model_name": "HTMLModel",
          "model_module_version": "1.5.0",
          "state": {
            "_dom_classes": [],
            "_model_module": "@jupyter-widgets/controls",
            "_model_module_version": "1.5.0",
            "_model_name": "HTMLModel",
            "_view_count": null,
            "_view_module": "@jupyter-widgets/controls",
            "_view_module_version": "1.5.0",
            "_view_name": "HTMLView",
            "description": "",
            "description_tooltip": null,
            "layout": "IPY_MODEL_c531f82136fe4d57ba9ee4eb326d3140",
            "placeholder": "​",
            "style": "IPY_MODEL_b747c5172f734191a8b4f77e991e2833",
            "value": "tokenizer_config.json: 100%"
          }
        },
        "ec326eac1469485b8e3a2f7bf4c95632": {
          "model_module": "@jupyter-widgets/controls",
          "model_name": "FloatProgressModel",
          "model_module_version": "1.5.0",
          "state": {
            "_dom_classes": [],
            "_model_module": "@jupyter-widgets/controls",
            "_model_module_version": "1.5.0",
            "_model_name": "FloatProgressModel",
            "_view_count": null,
            "_view_module": "@jupyter-widgets/controls",
            "_view_module_version": "1.5.0",
            "_view_name": "ProgressView",
            "bar_style": "success",
            "description": "",
            "description_tooltip": null,
            "layout": "IPY_MODEL_a7d442dc0b0742d9a489445859b07bb8",
            "max": 25,
            "min": 0,
            "orientation": "horizontal",
            "style": "IPY_MODEL_c50956f4fca34ab3b70bee735e5143ad",
            "value": 25
          }
        },
        "83efda734bef4ffe8f2047b07f28e34c": {
          "model_module": "@jupyter-widgets/controls",
          "model_name": "HTMLModel",
          "model_module_version": "1.5.0",
          "state": {
            "_dom_classes": [],
            "_model_module": "@jupyter-widgets/controls",
            "_model_module_version": "1.5.0",
            "_model_name": "HTMLModel",
            "_view_count": null,
            "_view_module": "@jupyter-widgets/controls",
            "_view_module_version": "1.5.0",
            "_view_name": "HTMLView",
            "description": "",
            "description_tooltip": null,
            "layout": "IPY_MODEL_7de7f3cb17be42adb1cec698697e96d7",
            "placeholder": "​",
            "style": "IPY_MODEL_79e3553dba6c46318fa1a92837b6515d",
            "value": " 25.0/25.0 [00:00&lt;00:00, 1.31kB/s]"
          }
        },
        "1bbe3ca9162b4c32903f92d428b9edf2": {
          "model_module": "@jupyter-widgets/base",
          "model_name": "LayoutModel",
          "model_module_version": "1.2.0",
          "state": {
            "_model_module": "@jupyter-widgets/base",
            "_model_module_version": "1.2.0",
            "_model_name": "LayoutModel",
            "_view_count": null,
            "_view_module": "@jupyter-widgets/base",
            "_view_module_version": "1.2.0",
            "_view_name": "LayoutView",
            "align_content": null,
            "align_items": null,
            "align_self": null,
            "border": null,
            "bottom": null,
            "display": null,
            "flex": null,
            "flex_flow": null,
            "grid_area": null,
            "grid_auto_columns": null,
            "grid_auto_flow": null,
            "grid_auto_rows": null,
            "grid_column": null,
            "grid_gap": null,
            "grid_row": null,
            "grid_template_areas": null,
            "grid_template_columns": null,
            "grid_template_rows": null,
            "height": null,
            "justify_content": null,
            "justify_items": null,
            "left": null,
            "margin": null,
            "max_height": null,
            "max_width": null,
            "min_height": null,
            "min_width": null,
            "object_fit": null,
            "object_position": null,
            "order": null,
            "overflow": null,
            "overflow_x": null,
            "overflow_y": null,
            "padding": null,
            "right": null,
            "top": null,
            "visibility": null,
            "width": null
          }
        },
        "c531f82136fe4d57ba9ee4eb326d3140": {
          "model_module": "@jupyter-widgets/base",
          "model_name": "LayoutModel",
          "model_module_version": "1.2.0",
          "state": {
            "_model_module": "@jupyter-widgets/base",
            "_model_module_version": "1.2.0",
            "_model_name": "LayoutModel",
            "_view_count": null,
            "_view_module": "@jupyter-widgets/base",
            "_view_module_version": "1.2.0",
            "_view_name": "LayoutView",
            "align_content": null,
            "align_items": null,
            "align_self": null,
            "border": null,
            "bottom": null,
            "display": null,
            "flex": null,
            "flex_flow": null,
            "grid_area": null,
            "grid_auto_columns": null,
            "grid_auto_flow": null,
            "grid_auto_rows": null,
            "grid_column": null,
            "grid_gap": null,
            "grid_row": null,
            "grid_template_areas": null,
            "grid_template_columns": null,
            "grid_template_rows": null,
            "height": null,
            "justify_content": null,
            "justify_items": null,
            "left": null,
            "margin": null,
            "max_height": null,
            "max_width": null,
            "min_height": null,
            "min_width": null,
            "object_fit": null,
            "object_position": null,
            "order": null,
            "overflow": null,
            "overflow_x": null,
            "overflow_y": null,
            "padding": null,
            "right": null,
            "top": null,
            "visibility": null,
            "width": null
          }
        },
        "b747c5172f734191a8b4f77e991e2833": {
          "model_module": "@jupyter-widgets/controls",
          "model_name": "DescriptionStyleModel",
          "model_module_version": "1.5.0",
          "state": {
            "_model_module": "@jupyter-widgets/controls",
            "_model_module_version": "1.5.0",
            "_model_name": "DescriptionStyleModel",
            "_view_count": null,
            "_view_module": "@jupyter-widgets/base",
            "_view_module_version": "1.2.0",
            "_view_name": "StyleView",
            "description_width": ""
          }
        },
        "a7d442dc0b0742d9a489445859b07bb8": {
          "model_module": "@jupyter-widgets/base",
          "model_name": "LayoutModel",
          "model_module_version": "1.2.0",
          "state": {
            "_model_module": "@jupyter-widgets/base",
            "_model_module_version": "1.2.0",
            "_model_name": "LayoutModel",
            "_view_count": null,
            "_view_module": "@jupyter-widgets/base",
            "_view_module_version": "1.2.0",
            "_view_name": "LayoutView",
            "align_content": null,
            "align_items": null,
            "align_self": null,
            "border": null,
            "bottom": null,
            "display": null,
            "flex": null,
            "flex_flow": null,
            "grid_area": null,
            "grid_auto_columns": null,
            "grid_auto_flow": null,
            "grid_auto_rows": null,
            "grid_column": null,
            "grid_gap": null,
            "grid_row": null,
            "grid_template_areas": null,
            "grid_template_columns": null,
            "grid_template_rows": null,
            "height": null,
            "justify_content": null,
            "justify_items": null,
            "left": null,
            "margin": null,
            "max_height": null,
            "max_width": null,
            "min_height": null,
            "min_width": null,
            "object_fit": null,
            "object_position": null,
            "order": null,
            "overflow": null,
            "overflow_x": null,
            "overflow_y": null,
            "padding": null,
            "right": null,
            "top": null,
            "visibility": null,
            "width": null
          }
        },
        "c50956f4fca34ab3b70bee735e5143ad": {
          "model_module": "@jupyter-widgets/controls",
          "model_name": "ProgressStyleModel",
          "model_module_version": "1.5.0",
          "state": {
            "_model_module": "@jupyter-widgets/controls",
            "_model_module_version": "1.5.0",
            "_model_name": "ProgressStyleModel",
            "_view_count": null,
            "_view_module": "@jupyter-widgets/base",
            "_view_module_version": "1.2.0",
            "_view_name": "StyleView",
            "bar_color": null,
            "description_width": ""
          }
        },
        "7de7f3cb17be42adb1cec698697e96d7": {
          "model_module": "@jupyter-widgets/base",
          "model_name": "LayoutModel",
          "model_module_version": "1.2.0",
          "state": {
            "_model_module": "@jupyter-widgets/base",
            "_model_module_version": "1.2.0",
            "_model_name": "LayoutModel",
            "_view_count": null,
            "_view_module": "@jupyter-widgets/base",
            "_view_module_version": "1.2.0",
            "_view_name": "LayoutView",
            "align_content": null,
            "align_items": null,
            "align_self": null,
            "border": null,
            "bottom": null,
            "display": null,
            "flex": null,
            "flex_flow": null,
            "grid_area": null,
            "grid_auto_columns": null,
            "grid_auto_flow": null,
            "grid_auto_rows": null,
            "grid_column": null,
            "grid_gap": null,
            "grid_row": null,
            "grid_template_areas": null,
            "grid_template_columns": null,
            "grid_template_rows": null,
            "height": null,
            "justify_content": null,
            "justify_items": null,
            "left": null,
            "margin": null,
            "max_height": null,
            "max_width": null,
            "min_height": null,
            "min_width": null,
            "object_fit": null,
            "object_position": null,
            "order": null,
            "overflow": null,
            "overflow_x": null,
            "overflow_y": null,
            "padding": null,
            "right": null,
            "top": null,
            "visibility": null,
            "width": null
          }
        },
        "79e3553dba6c46318fa1a92837b6515d": {
          "model_module": "@jupyter-widgets/controls",
          "model_name": "DescriptionStyleModel",
          "model_module_version": "1.5.0",
          "state": {
            "_model_module": "@jupyter-widgets/controls",
            "_model_module_version": "1.5.0",
            "_model_name": "DescriptionStyleModel",
            "_view_count": null,
            "_view_module": "@jupyter-widgets/base",
            "_view_module_version": "1.2.0",
            "_view_name": "StyleView",
            "description_width": ""
          }
        },
        "22c94ac41e354cd98c623b2645af2491": {
          "model_module": "@jupyter-widgets/controls",
          "model_name": "HBoxModel",
          "model_module_version": "1.5.0",
          "state": {
            "_dom_classes": [],
            "_model_module": "@jupyter-widgets/controls",
            "_model_module_version": "1.5.0",
            "_model_name": "HBoxModel",
            "_view_count": null,
            "_view_module": "@jupyter-widgets/controls",
            "_view_module_version": "1.5.0",
            "_view_name": "HBoxView",
            "box_style": "",
            "children": [
              "IPY_MODEL_ec974e2b231e43e89f5710810ee7c085",
              "IPY_MODEL_16583a3298e349fd9d5a2ea34775f587",
              "IPY_MODEL_26fb2114670d46588e7c86f59fc7250c"
            ],
            "layout": "IPY_MODEL_dded06e6d27a4e3996684f6d6e46b0e6"
          }
        },
        "ec974e2b231e43e89f5710810ee7c085": {
          "model_module": "@jupyter-widgets/controls",
          "model_name": "HTMLModel",
          "model_module_version": "1.5.0",
          "state": {
            "_dom_classes": [],
            "_model_module": "@jupyter-widgets/controls",
            "_model_module_version": "1.5.0",
            "_model_name": "HTMLModel",
            "_view_count": null,
            "_view_module": "@jupyter-widgets/controls",
            "_view_module_version": "1.5.0",
            "_view_name": "HTMLView",
            "description": "",
            "description_tooltip": null,
            "layout": "IPY_MODEL_12d5915d59dc435ea414e695c4b3a629",
            "placeholder": "​",
            "style": "IPY_MODEL_ab07e1678b614f42b58d39155f56f367",
            "value": "sentencepiece.bpe.model: 100%"
          }
        },
        "16583a3298e349fd9d5a2ea34775f587": {
          "model_module": "@jupyter-widgets/controls",
          "model_name": "FloatProgressModel",
          "model_module_version": "1.5.0",
          "state": {
            "_dom_classes": [],
            "_model_module": "@jupyter-widgets/controls",
            "_model_module_version": "1.5.0",
            "_model_name": "FloatProgressModel",
            "_view_count": null,
            "_view_module": "@jupyter-widgets/controls",
            "_view_module_version": "1.5.0",
            "_view_name": "ProgressView",
            "bar_style": "success",
            "description": "",
            "description_tooltip": null,
            "layout": "IPY_MODEL_c4d44e1cdf5643488ec8f6a6f73e1d9a",
            "max": 5069051,
            "min": 0,
            "orientation": "horizontal",
            "style": "IPY_MODEL_c35bd01ce69746f7b20e1fafed52cbb3",
            "value": 5069051
          }
        },
        "26fb2114670d46588e7c86f59fc7250c": {
          "model_module": "@jupyter-widgets/controls",
          "model_name": "HTMLModel",
          "model_module_version": "1.5.0",
          "state": {
            "_dom_classes": [],
            "_model_module": "@jupyter-widgets/controls",
            "_model_module_version": "1.5.0",
            "_model_name": "HTMLModel",
            "_view_count": null,
            "_view_module": "@jupyter-widgets/controls",
            "_view_module_version": "1.5.0",
            "_view_name": "HTMLView",
            "description": "",
            "description_tooltip": null,
            "layout": "IPY_MODEL_32f3c94bdfa04c60853c334ad5e4fcfb",
            "placeholder": "​",
            "style": "IPY_MODEL_69bcc20164b543039bde1decc40d01ae",
            "value": " 5.07M/5.07M [00:00&lt;00:00, 7.98MB/s]"
          }
        },
        "dded06e6d27a4e3996684f6d6e46b0e6": {
          "model_module": "@jupyter-widgets/base",
          "model_name": "LayoutModel",
          "model_module_version": "1.2.0",
          "state": {
            "_model_module": "@jupyter-widgets/base",
            "_model_module_version": "1.2.0",
            "_model_name": "LayoutModel",
            "_view_count": null,
            "_view_module": "@jupyter-widgets/base",
            "_view_module_version": "1.2.0",
            "_view_name": "LayoutView",
            "align_content": null,
            "align_items": null,
            "align_self": null,
            "border": null,
            "bottom": null,
            "display": null,
            "flex": null,
            "flex_flow": null,
            "grid_area": null,
            "grid_auto_columns": null,
            "grid_auto_flow": null,
            "grid_auto_rows": null,
            "grid_column": null,
            "grid_gap": null,
            "grid_row": null,
            "grid_template_areas": null,
            "grid_template_columns": null,
            "grid_template_rows": null,
            "height": null,
            "justify_content": null,
            "justify_items": null,
            "left": null,
            "margin": null,
            "max_height": null,
            "max_width": null,
            "min_height": null,
            "min_width": null,
            "object_fit": null,
            "object_position": null,
            "order": null,
            "overflow": null,
            "overflow_x": null,
            "overflow_y": null,
            "padding": null,
            "right": null,
            "top": null,
            "visibility": null,
            "width": null
          }
        },
        "12d5915d59dc435ea414e695c4b3a629": {
          "model_module": "@jupyter-widgets/base",
          "model_name": "LayoutModel",
          "model_module_version": "1.2.0",
          "state": {
            "_model_module": "@jupyter-widgets/base",
            "_model_module_version": "1.2.0",
            "_model_name": "LayoutModel",
            "_view_count": null,
            "_view_module": "@jupyter-widgets/base",
            "_view_module_version": "1.2.0",
            "_view_name": "LayoutView",
            "align_content": null,
            "align_items": null,
            "align_self": null,
            "border": null,
            "bottom": null,
            "display": null,
            "flex": null,
            "flex_flow": null,
            "grid_area": null,
            "grid_auto_columns": null,
            "grid_auto_flow": null,
            "grid_auto_rows": null,
            "grid_column": null,
            "grid_gap": null,
            "grid_row": null,
            "grid_template_areas": null,
            "grid_template_columns": null,
            "grid_template_rows": null,
            "height": null,
            "justify_content": null,
            "justify_items": null,
            "left": null,
            "margin": null,
            "max_height": null,
            "max_width": null,
            "min_height": null,
            "min_width": null,
            "object_fit": null,
            "object_position": null,
            "order": null,
            "overflow": null,
            "overflow_x": null,
            "overflow_y": null,
            "padding": null,
            "right": null,
            "top": null,
            "visibility": null,
            "width": null
          }
        },
        "ab07e1678b614f42b58d39155f56f367": {
          "model_module": "@jupyter-widgets/controls",
          "model_name": "DescriptionStyleModel",
          "model_module_version": "1.5.0",
          "state": {
            "_model_module": "@jupyter-widgets/controls",
            "_model_module_version": "1.5.0",
            "_model_name": "DescriptionStyleModel",
            "_view_count": null,
            "_view_module": "@jupyter-widgets/base",
            "_view_module_version": "1.2.0",
            "_view_name": "StyleView",
            "description_width": ""
          }
        },
        "c4d44e1cdf5643488ec8f6a6f73e1d9a": {
          "model_module": "@jupyter-widgets/base",
          "model_name": "LayoutModel",
          "model_module_version": "1.2.0",
          "state": {
            "_model_module": "@jupyter-widgets/base",
            "_model_module_version": "1.2.0",
            "_model_name": "LayoutModel",
            "_view_count": null,
            "_view_module": "@jupyter-widgets/base",
            "_view_module_version": "1.2.0",
            "_view_name": "LayoutView",
            "align_content": null,
            "align_items": null,
            "align_self": null,
            "border": null,
            "bottom": null,
            "display": null,
            "flex": null,
            "flex_flow": null,
            "grid_area": null,
            "grid_auto_columns": null,
            "grid_auto_flow": null,
            "grid_auto_rows": null,
            "grid_column": null,
            "grid_gap": null,
            "grid_row": null,
            "grid_template_areas": null,
            "grid_template_columns": null,
            "grid_template_rows": null,
            "height": null,
            "justify_content": null,
            "justify_items": null,
            "left": null,
            "margin": null,
            "max_height": null,
            "max_width": null,
            "min_height": null,
            "min_width": null,
            "object_fit": null,
            "object_position": null,
            "order": null,
            "overflow": null,
            "overflow_x": null,
            "overflow_y": null,
            "padding": null,
            "right": null,
            "top": null,
            "visibility": null,
            "width": null
          }
        },
        "c35bd01ce69746f7b20e1fafed52cbb3": {
          "model_module": "@jupyter-widgets/controls",
          "model_name": "ProgressStyleModel",
          "model_module_version": "1.5.0",
          "state": {
            "_model_module": "@jupyter-widgets/controls",
            "_model_module_version": "1.5.0",
            "_model_name": "ProgressStyleModel",
            "_view_count": null,
            "_view_module": "@jupyter-widgets/base",
            "_view_module_version": "1.2.0",
            "_view_name": "StyleView",
            "bar_color": null,
            "description_width": ""
          }
        },
        "32f3c94bdfa04c60853c334ad5e4fcfb": {
          "model_module": "@jupyter-widgets/base",
          "model_name": "LayoutModel",
          "model_module_version": "1.2.0",
          "state": {
            "_model_module": "@jupyter-widgets/base",
            "_model_module_version": "1.2.0",
            "_model_name": "LayoutModel",
            "_view_count": null,
            "_view_module": "@jupyter-widgets/base",
            "_view_module_version": "1.2.0",
            "_view_name": "LayoutView",
            "align_content": null,
            "align_items": null,
            "align_self": null,
            "border": null,
            "bottom": null,
            "display": null,
            "flex": null,
            "flex_flow": null,
            "grid_area": null,
            "grid_auto_columns": null,
            "grid_auto_flow": null,
            "grid_auto_rows": null,
            "grid_column": null,
            "grid_gap": null,
            "grid_row": null,
            "grid_template_areas": null,
            "grid_template_columns": null,
            "grid_template_rows": null,
            "height": null,
            "justify_content": null,
            "justify_items": null,
            "left": null,
            "margin": null,
            "max_height": null,
            "max_width": null,
            "min_height": null,
            "min_width": null,
            "object_fit": null,
            "object_position": null,
            "order": null,
            "overflow": null,
            "overflow_x": null,
            "overflow_y": null,
            "padding": null,
            "right": null,
            "top": null,
            "visibility": null,
            "width": null
          }
        },
        "69bcc20164b543039bde1decc40d01ae": {
          "model_module": "@jupyter-widgets/controls",
          "model_name": "DescriptionStyleModel",
          "model_module_version": "1.5.0",
          "state": {
            "_model_module": "@jupyter-widgets/controls",
            "_model_module_version": "1.5.0",
            "_model_name": "DescriptionStyleModel",
            "_view_count": null,
            "_view_module": "@jupyter-widgets/base",
            "_view_module_version": "1.2.0",
            "_view_name": "StyleView",
            "description_width": ""
          }
        },
        "ad62f331b61e4aeb8ac042179983a76a": {
          "model_module": "@jupyter-widgets/controls",
          "model_name": "HBoxModel",
          "model_module_version": "1.5.0",
          "state": {
            "_dom_classes": [],
            "_model_module": "@jupyter-widgets/controls",
            "_model_module_version": "1.5.0",
            "_model_name": "HBoxModel",
            "_view_count": null,
            "_view_module": "@jupyter-widgets/controls",
            "_view_module_version": "1.5.0",
            "_view_name": "HBoxView",
            "box_style": "",
            "children": [
              "IPY_MODEL_e60379d38fc3482fb67e60cc4fa98061",
              "IPY_MODEL_8eed961bcb8540e3933207240959bdd2",
              "IPY_MODEL_95a67f6a4c734955a9ff12b63dffe75e"
            ],
            "layout": "IPY_MODEL_5cb6160dffed4417a9bf24f9906c4f2c"
          }
        },
        "e60379d38fc3482fb67e60cc4fa98061": {
          "model_module": "@jupyter-widgets/controls",
          "model_name": "HTMLModel",
          "model_module_version": "1.5.0",
          "state": {
            "_dom_classes": [],
            "_model_module": "@jupyter-widgets/controls",
            "_model_module_version": "1.5.0",
            "_model_name": "HTMLModel",
            "_view_count": null,
            "_view_module": "@jupyter-widgets/controls",
            "_view_module_version": "1.5.0",
            "_view_name": "HTMLView",
            "description": "",
            "description_tooltip": null,
            "layout": "IPY_MODEL_cc724ed5614d49deb785813456158520",
            "placeholder": "​",
            "style": "IPY_MODEL_5591a24adf474b72a247eebb06bb60c3",
            "value": "tokenizer.json: 100%"
          }
        },
        "8eed961bcb8540e3933207240959bdd2": {
          "model_module": "@jupyter-widgets/controls",
          "model_name": "FloatProgressModel",
          "model_module_version": "1.5.0",
          "state": {
            "_dom_classes": [],
            "_model_module": "@jupyter-widgets/controls",
            "_model_module_version": "1.5.0",
            "_model_name": "FloatProgressModel",
            "_view_count": null,
            "_view_module": "@jupyter-widgets/controls",
            "_view_module_version": "1.5.0",
            "_view_name": "ProgressView",
            "bar_style": "success",
            "description": "",
            "description_tooltip": null,
            "layout": "IPY_MODEL_e8806af5f8e74cadac4a13655c49544f",
            "max": 9096718,
            "min": 0,
            "orientation": "horizontal",
            "style": "IPY_MODEL_c59a45ba82aa4e168e22749302750a46",
            "value": 9096718
          }
        },
        "95a67f6a4c734955a9ff12b63dffe75e": {
          "model_module": "@jupyter-widgets/controls",
          "model_name": "HTMLModel",
          "model_module_version": "1.5.0",
          "state": {
            "_dom_classes": [],
            "_model_module": "@jupyter-widgets/controls",
            "_model_module_version": "1.5.0",
            "_model_name": "HTMLModel",
            "_view_count": null,
            "_view_module": "@jupyter-widgets/controls",
            "_view_module_version": "1.5.0",
            "_view_name": "HTMLView",
            "description": "",
            "description_tooltip": null,
            "layout": "IPY_MODEL_e6936146234a4eb7a91e6825b35bbbde",
            "placeholder": "​",
            "style": "IPY_MODEL_a93d72e1c2a5442399c9388629a5d972",
            "value": " 9.10M/9.10M [00:00&lt;00:00, 58.4MB/s]"
          }
        },
        "5cb6160dffed4417a9bf24f9906c4f2c": {
          "model_module": "@jupyter-widgets/base",
          "model_name": "LayoutModel",
          "model_module_version": "1.2.0",
          "state": {
            "_model_module": "@jupyter-widgets/base",
            "_model_module_version": "1.2.0",
            "_model_name": "LayoutModel",
            "_view_count": null,
            "_view_module": "@jupyter-widgets/base",
            "_view_module_version": "1.2.0",
            "_view_name": "LayoutView",
            "align_content": null,
            "align_items": null,
            "align_self": null,
            "border": null,
            "bottom": null,
            "display": null,
            "flex": null,
            "flex_flow": null,
            "grid_area": null,
            "grid_auto_columns": null,
            "grid_auto_flow": null,
            "grid_auto_rows": null,
            "grid_column": null,
            "grid_gap": null,
            "grid_row": null,
            "grid_template_areas": null,
            "grid_template_columns": null,
            "grid_template_rows": null,
            "height": null,
            "justify_content": null,
            "justify_items": null,
            "left": null,
            "margin": null,
            "max_height": null,
            "max_width": null,
            "min_height": null,
            "min_width": null,
            "object_fit": null,
            "object_position": null,
            "order": null,
            "overflow": null,
            "overflow_x": null,
            "overflow_y": null,
            "padding": null,
            "right": null,
            "top": null,
            "visibility": null,
            "width": null
          }
        },
        "cc724ed5614d49deb785813456158520": {
          "model_module": "@jupyter-widgets/base",
          "model_name": "LayoutModel",
          "model_module_version": "1.2.0",
          "state": {
            "_model_module": "@jupyter-widgets/base",
            "_model_module_version": "1.2.0",
            "_model_name": "LayoutModel",
            "_view_count": null,
            "_view_module": "@jupyter-widgets/base",
            "_view_module_version": "1.2.0",
            "_view_name": "LayoutView",
            "align_content": null,
            "align_items": null,
            "align_self": null,
            "border": null,
            "bottom": null,
            "display": null,
            "flex": null,
            "flex_flow": null,
            "grid_area": null,
            "grid_auto_columns": null,
            "grid_auto_flow": null,
            "grid_auto_rows": null,
            "grid_column": null,
            "grid_gap": null,
            "grid_row": null,
            "grid_template_areas": null,
            "grid_template_columns": null,
            "grid_template_rows": null,
            "height": null,
            "justify_content": null,
            "justify_items": null,
            "left": null,
            "margin": null,
            "max_height": null,
            "max_width": null,
            "min_height": null,
            "min_width": null,
            "object_fit": null,
            "object_position": null,
            "order": null,
            "overflow": null,
            "overflow_x": null,
            "overflow_y": null,
            "padding": null,
            "right": null,
            "top": null,
            "visibility": null,
            "width": null
          }
        },
        "5591a24adf474b72a247eebb06bb60c3": {
          "model_module": "@jupyter-widgets/controls",
          "model_name": "DescriptionStyleModel",
          "model_module_version": "1.5.0",
          "state": {
            "_model_module": "@jupyter-widgets/controls",
            "_model_module_version": "1.5.0",
            "_model_name": "DescriptionStyleModel",
            "_view_count": null,
            "_view_module": "@jupyter-widgets/base",
            "_view_module_version": "1.2.0",
            "_view_name": "StyleView",
            "description_width": ""
          }
        },
        "e8806af5f8e74cadac4a13655c49544f": {
          "model_module": "@jupyter-widgets/base",
          "model_name": "LayoutModel",
          "model_module_version": "1.2.0",
          "state": {
            "_model_module": "@jupyter-widgets/base",
            "_model_module_version": "1.2.0",
            "_model_name": "LayoutModel",
            "_view_count": null,
            "_view_module": "@jupyter-widgets/base",
            "_view_module_version": "1.2.0",
            "_view_name": "LayoutView",
            "align_content": null,
            "align_items": null,
            "align_self": null,
            "border": null,
            "bottom": null,
            "display": null,
            "flex": null,
            "flex_flow": null,
            "grid_area": null,
            "grid_auto_columns": null,
            "grid_auto_flow": null,
            "grid_auto_rows": null,
            "grid_column": null,
            "grid_gap": null,
            "grid_row": null,
            "grid_template_areas": null,
            "grid_template_columns": null,
            "grid_template_rows": null,
            "height": null,
            "justify_content": null,
            "justify_items": null,
            "left": null,
            "margin": null,
            "max_height": null,
            "max_width": null,
            "min_height": null,
            "min_width": null,
            "object_fit": null,
            "object_position": null,
            "order": null,
            "overflow": null,
            "overflow_x": null,
            "overflow_y": null,
            "padding": null,
            "right": null,
            "top": null,
            "visibility": null,
            "width": null
          }
        },
        "c59a45ba82aa4e168e22749302750a46": {
          "model_module": "@jupyter-widgets/controls",
          "model_name": "ProgressStyleModel",
          "model_module_version": "1.5.0",
          "state": {
            "_model_module": "@jupyter-widgets/controls",
            "_model_module_version": "1.5.0",
            "_model_name": "ProgressStyleModel",
            "_view_count": null,
            "_view_module": "@jupyter-widgets/base",
            "_view_module_version": "1.2.0",
            "_view_name": "StyleView",
            "bar_color": null,
            "description_width": ""
          }
        },
        "e6936146234a4eb7a91e6825b35bbbde": {
          "model_module": "@jupyter-widgets/base",
          "model_name": "LayoutModel",
          "model_module_version": "1.2.0",
          "state": {
            "_model_module": "@jupyter-widgets/base",
            "_model_module_version": "1.2.0",
            "_model_name": "LayoutModel",
            "_view_count": null,
            "_view_module": "@jupyter-widgets/base",
            "_view_module_version": "1.2.0",
            "_view_name": "LayoutView",
            "align_content": null,
            "align_items": null,
            "align_self": null,
            "border": null,
            "bottom": null,
            "display": null,
            "flex": null,
            "flex_flow": null,
            "grid_area": null,
            "grid_auto_columns": null,
            "grid_auto_flow": null,
            "grid_auto_rows": null,
            "grid_column": null,
            "grid_gap": null,
            "grid_row": null,
            "grid_template_areas": null,
            "grid_template_columns": null,
            "grid_template_rows": null,
            "height": null,
            "justify_content": null,
            "justify_items": null,
            "left": null,
            "margin": null,
            "max_height": null,
            "max_width": null,
            "min_height": null,
            "min_width": null,
            "object_fit": null,
            "object_position": null,
            "order": null,
            "overflow": null,
            "overflow_x": null,
            "overflow_y": null,
            "padding": null,
            "right": null,
            "top": null,
            "visibility": null,
            "width": null
          }
        },
        "a93d72e1c2a5442399c9388629a5d972": {
          "model_module": "@jupyter-widgets/controls",
          "model_name": "DescriptionStyleModel",
          "model_module_version": "1.5.0",
          "state": {
            "_model_module": "@jupyter-widgets/controls",
            "_model_module_version": "1.5.0",
            "_model_name": "DescriptionStyleModel",
            "_view_count": null,
            "_view_module": "@jupyter-widgets/base",
            "_view_module_version": "1.2.0",
            "_view_name": "StyleView",
            "description_width": ""
          }
        },
        "7c9bbf72fb14491c8f90a086aec10307": {
          "model_module": "@jupyter-widgets/controls",
          "model_name": "HBoxModel",
          "model_module_version": "1.5.0",
          "state": {
            "_dom_classes": [],
            "_model_module": "@jupyter-widgets/controls",
            "_model_module_version": "1.5.0",
            "_model_name": "HBoxModel",
            "_view_count": null,
            "_view_module": "@jupyter-widgets/controls",
            "_view_module_version": "1.5.0",
            "_view_name": "HBoxView",
            "box_style": "",
            "children": [
              "IPY_MODEL_ff03d241b04949a498788e3c31037d2e",
              "IPY_MODEL_6ac24565705d409597cbbafa39eeb379",
              "IPY_MODEL_0454ea40584b4bae936919f305d2ebfc"
            ],
            "layout": "IPY_MODEL_2fedb8fb70ee44eeb6be95c7fcc41318"
          }
        },
        "ff03d241b04949a498788e3c31037d2e": {
          "model_module": "@jupyter-widgets/controls",
          "model_name": "HTMLModel",
          "model_module_version": "1.5.0",
          "state": {
            "_dom_classes": [],
            "_model_module": "@jupyter-widgets/controls",
            "_model_module_version": "1.5.0",
            "_model_name": "HTMLModel",
            "_view_count": null,
            "_view_module": "@jupyter-widgets/controls",
            "_view_module_version": "1.5.0",
            "_view_name": "HTMLView",
            "description": "",
            "description_tooltip": null,
            "layout": "IPY_MODEL_153198bca3404197a24fdf77dc30a28a",
            "placeholder": "​",
            "style": "IPY_MODEL_9163796e15a3425ab13dbd6eabcb88ee",
            "value": "config.json: 100%"
          }
        },
        "6ac24565705d409597cbbafa39eeb379": {
          "model_module": "@jupyter-widgets/controls",
          "model_name": "FloatProgressModel",
          "model_module_version": "1.5.0",
          "state": {
            "_dom_classes": [],
            "_model_module": "@jupyter-widgets/controls",
            "_model_module_version": "1.5.0",
            "_model_name": "FloatProgressModel",
            "_view_count": null,
            "_view_module": "@jupyter-widgets/controls",
            "_view_module_version": "1.5.0",
            "_view_name": "ProgressView",
            "bar_style": "success",
            "description": "",
            "description_tooltip": null,
            "layout": "IPY_MODEL_0fedcec45ef6488e861d35fccdc6ae54",
            "max": 615,
            "min": 0,
            "orientation": "horizontal",
            "style": "IPY_MODEL_1e22f037085549be9f643f6fedb504da",
            "value": 615
          }
        },
        "0454ea40584b4bae936919f305d2ebfc": {
          "model_module": "@jupyter-widgets/controls",
          "model_name": "HTMLModel",
          "model_module_version": "1.5.0",
          "state": {
            "_dom_classes": [],
            "_model_module": "@jupyter-widgets/controls",
            "_model_module_version": "1.5.0",
            "_model_name": "HTMLModel",
            "_view_count": null,
            "_view_module": "@jupyter-widgets/controls",
            "_view_module_version": "1.5.0",
            "_view_name": "HTMLView",
            "description": "",
            "description_tooltip": null,
            "layout": "IPY_MODEL_230763137b6640bb9ee44bfb334928e7",
            "placeholder": "​",
            "style": "IPY_MODEL_88ae4c4880e4417893270f109141cd87",
            "value": " 615/615 [00:00&lt;00:00, 29.9kB/s]"
          }
        },
        "2fedb8fb70ee44eeb6be95c7fcc41318": {
          "model_module": "@jupyter-widgets/base",
          "model_name": "LayoutModel",
          "model_module_version": "1.2.0",
          "state": {
            "_model_module": "@jupyter-widgets/base",
            "_model_module_version": "1.2.0",
            "_model_name": "LayoutModel",
            "_view_count": null,
            "_view_module": "@jupyter-widgets/base",
            "_view_module_version": "1.2.0",
            "_view_name": "LayoutView",
            "align_content": null,
            "align_items": null,
            "align_self": null,
            "border": null,
            "bottom": null,
            "display": null,
            "flex": null,
            "flex_flow": null,
            "grid_area": null,
            "grid_auto_columns": null,
            "grid_auto_flow": null,
            "grid_auto_rows": null,
            "grid_column": null,
            "grid_gap": null,
            "grid_row": null,
            "grid_template_areas": null,
            "grid_template_columns": null,
            "grid_template_rows": null,
            "height": null,
            "justify_content": null,
            "justify_items": null,
            "left": null,
            "margin": null,
            "max_height": null,
            "max_width": null,
            "min_height": null,
            "min_width": null,
            "object_fit": null,
            "object_position": null,
            "order": null,
            "overflow": null,
            "overflow_x": null,
            "overflow_y": null,
            "padding": null,
            "right": null,
            "top": null,
            "visibility": null,
            "width": null
          }
        },
        "153198bca3404197a24fdf77dc30a28a": {
          "model_module": "@jupyter-widgets/base",
          "model_name": "LayoutModel",
          "model_module_version": "1.2.0",
          "state": {
            "_model_module": "@jupyter-widgets/base",
            "_model_module_version": "1.2.0",
            "_model_name": "LayoutModel",
            "_view_count": null,
            "_view_module": "@jupyter-widgets/base",
            "_view_module_version": "1.2.0",
            "_view_name": "LayoutView",
            "align_content": null,
            "align_items": null,
            "align_self": null,
            "border": null,
            "bottom": null,
            "display": null,
            "flex": null,
            "flex_flow": null,
            "grid_area": null,
            "grid_auto_columns": null,
            "grid_auto_flow": null,
            "grid_auto_rows": null,
            "grid_column": null,
            "grid_gap": null,
            "grid_row": null,
            "grid_template_areas": null,
            "grid_template_columns": null,
            "grid_template_rows": null,
            "height": null,
            "justify_content": null,
            "justify_items": null,
            "left": null,
            "margin": null,
            "max_height": null,
            "max_width": null,
            "min_height": null,
            "min_width": null,
            "object_fit": null,
            "object_position": null,
            "order": null,
            "overflow": null,
            "overflow_x": null,
            "overflow_y": null,
            "padding": null,
            "right": null,
            "top": null,
            "visibility": null,
            "width": null
          }
        },
        "9163796e15a3425ab13dbd6eabcb88ee": {
          "model_module": "@jupyter-widgets/controls",
          "model_name": "DescriptionStyleModel",
          "model_module_version": "1.5.0",
          "state": {
            "_model_module": "@jupyter-widgets/controls",
            "_model_module_version": "1.5.0",
            "_model_name": "DescriptionStyleModel",
            "_view_count": null,
            "_view_module": "@jupyter-widgets/base",
            "_view_module_version": "1.2.0",
            "_view_name": "StyleView",
            "description_width": ""
          }
        },
        "0fedcec45ef6488e861d35fccdc6ae54": {
          "model_module": "@jupyter-widgets/base",
          "model_name": "LayoutModel",
          "model_module_version": "1.2.0",
          "state": {
            "_model_module": "@jupyter-widgets/base",
            "_model_module_version": "1.2.0",
            "_model_name": "LayoutModel",
            "_view_count": null,
            "_view_module": "@jupyter-widgets/base",
            "_view_module_version": "1.2.0",
            "_view_name": "LayoutView",
            "align_content": null,
            "align_items": null,
            "align_self": null,
            "border": null,
            "bottom": null,
            "display": null,
            "flex": null,
            "flex_flow": null,
            "grid_area": null,
            "grid_auto_columns": null,
            "grid_auto_flow": null,
            "grid_auto_rows": null,
            "grid_column": null,
            "grid_gap": null,
            "grid_row": null,
            "grid_template_areas": null,
            "grid_template_columns": null,
            "grid_template_rows": null,
            "height": null,
            "justify_content": null,
            "justify_items": null,
            "left": null,
            "margin": null,
            "max_height": null,
            "max_width": null,
            "min_height": null,
            "min_width": null,
            "object_fit": null,
            "object_position": null,
            "order": null,
            "overflow": null,
            "overflow_x": null,
            "overflow_y": null,
            "padding": null,
            "right": null,
            "top": null,
            "visibility": null,
            "width": null
          }
        },
        "1e22f037085549be9f643f6fedb504da": {
          "model_module": "@jupyter-widgets/controls",
          "model_name": "ProgressStyleModel",
          "model_module_version": "1.5.0",
          "state": {
            "_model_module": "@jupyter-widgets/controls",
            "_model_module_version": "1.5.0",
            "_model_name": "ProgressStyleModel",
            "_view_count": null,
            "_view_module": "@jupyter-widgets/base",
            "_view_module_version": "1.2.0",
            "_view_name": "StyleView",
            "bar_color": null,
            "description_width": ""
          }
        },
        "230763137b6640bb9ee44bfb334928e7": {
          "model_module": "@jupyter-widgets/base",
          "model_name": "LayoutModel",
          "model_module_version": "1.2.0",
          "state": {
            "_model_module": "@jupyter-widgets/base",
            "_model_module_version": "1.2.0",
            "_model_name": "LayoutModel",
            "_view_count": null,
            "_view_module": "@jupyter-widgets/base",
            "_view_module_version": "1.2.0",
            "_view_name": "LayoutView",
            "align_content": null,
            "align_items": null,
            "align_self": null,
            "border": null,
            "bottom": null,
            "display": null,
            "flex": null,
            "flex_flow": null,
            "grid_area": null,
            "grid_auto_columns": null,
            "grid_auto_flow": null,
            "grid_auto_rows": null,
            "grid_column": null,
            "grid_gap": null,
            "grid_row": null,
            "grid_template_areas": null,
            "grid_template_columns": null,
            "grid_template_rows": null,
            "height": null,
            "justify_content": null,
            "justify_items": null,
            "left": null,
            "margin": null,
            "max_height": null,
            "max_width": null,
            "min_height": null,
            "min_width": null,
            "object_fit": null,
            "object_position": null,
            "order": null,
            "overflow": null,
            "overflow_x": null,
            "overflow_y": null,
            "padding": null,
            "right": null,
            "top": null,
            "visibility": null,
            "width": null
          }
        },
        "88ae4c4880e4417893270f109141cd87": {
          "model_module": "@jupyter-widgets/controls",
          "model_name": "DescriptionStyleModel",
          "model_module_version": "1.5.0",
          "state": {
            "_model_module": "@jupyter-widgets/controls",
            "_model_module_version": "1.5.0",
            "_model_name": "DescriptionStyleModel",
            "_view_count": null,
            "_view_module": "@jupyter-widgets/base",
            "_view_module_version": "1.2.0",
            "_view_name": "StyleView",
            "description_width": ""
          }
        },
        "81155058e57d4defa33bcf11b2835f96": {
          "model_module": "@jupyter-widgets/controls",
          "model_name": "HBoxModel",
          "model_module_version": "1.5.0",
          "state": {
            "_dom_classes": [],
            "_model_module": "@jupyter-widgets/controls",
            "_model_module_version": "1.5.0",
            "_model_name": "HBoxModel",
            "_view_count": null,
            "_view_module": "@jupyter-widgets/controls",
            "_view_module_version": "1.5.0",
            "_view_name": "HBoxView",
            "box_style": "",
            "children": [
              "IPY_MODEL_88eeebbbf4b64ce894df35c700cdf6ab",
              "IPY_MODEL_da54e0e331554ae68429b1382f9d33f8",
              "IPY_MODEL_5619fb9427944b1e8f63db8af2ed1236"
            ],
            "layout": "IPY_MODEL_54fa04584f1e4bdf9053f8788332c657"
          }
        },
        "88eeebbbf4b64ce894df35c700cdf6ab": {
          "model_module": "@jupyter-widgets/controls",
          "model_name": "HTMLModel",
          "model_module_version": "1.5.0",
          "state": {
            "_dom_classes": [],
            "_model_module": "@jupyter-widgets/controls",
            "_model_module_version": "1.5.0",
            "_model_name": "HTMLModel",
            "_view_count": null,
            "_view_module": "@jupyter-widgets/controls",
            "_view_module_version": "1.5.0",
            "_view_name": "HTMLView",
            "description": "",
            "description_tooltip": null,
            "layout": "IPY_MODEL_0b07908f3c14403194f7d5c3060b865f",
            "placeholder": "​",
            "style": "IPY_MODEL_43a05145f83c4294bc88cc49438533e4",
            "value": "model.safetensors: 100%"
          }
        },
        "da54e0e331554ae68429b1382f9d33f8": {
          "model_module": "@jupyter-widgets/controls",
          "model_name": "FloatProgressModel",
          "model_module_version": "1.5.0",
          "state": {
            "_dom_classes": [],
            "_model_module": "@jupyter-widgets/controls",
            "_model_module_version": "1.5.0",
            "_model_name": "FloatProgressModel",
            "_view_count": null,
            "_view_module": "@jupyter-widgets/controls",
            "_view_module_version": "1.5.0",
            "_view_name": "ProgressView",
            "bar_style": "success",
            "description": "",
            "description_tooltip": null,
            "layout": "IPY_MODEL_b661491462994ce68087b910a7bb74b9",
            "max": 1115567652,
            "min": 0,
            "orientation": "horizontal",
            "style": "IPY_MODEL_cc05d8f9b66547f8b661c130024a63eb",
            "value": 1115567652
          }
        },
        "5619fb9427944b1e8f63db8af2ed1236": {
          "model_module": "@jupyter-widgets/controls",
          "model_name": "HTMLModel",
          "model_module_version": "1.5.0",
          "state": {
            "_dom_classes": [],
            "_model_module": "@jupyter-widgets/controls",
            "_model_module_version": "1.5.0",
            "_model_name": "HTMLModel",
            "_view_count": null,
            "_view_module": "@jupyter-widgets/controls",
            "_view_module_version": "1.5.0",
            "_view_name": "HTMLView",
            "description": "",
            "description_tooltip": null,
            "layout": "IPY_MODEL_b74856eb29574c3386f7013f32e841cb",
            "placeholder": "​",
            "style": "IPY_MODEL_0f2f4c69eec84b7f9045422fc99036ba",
            "value": " 1.12G/1.12G [00:11&lt;00:00, 98.9MB/s]"
          }
        },
        "54fa04584f1e4bdf9053f8788332c657": {
          "model_module": "@jupyter-widgets/base",
          "model_name": "LayoutModel",
          "model_module_version": "1.2.0",
          "state": {
            "_model_module": "@jupyter-widgets/base",
            "_model_module_version": "1.2.0",
            "_model_name": "LayoutModel",
            "_view_count": null,
            "_view_module": "@jupyter-widgets/base",
            "_view_module_version": "1.2.0",
            "_view_name": "LayoutView",
            "align_content": null,
            "align_items": null,
            "align_self": null,
            "border": null,
            "bottom": null,
            "display": null,
            "flex": null,
            "flex_flow": null,
            "grid_area": null,
            "grid_auto_columns": null,
            "grid_auto_flow": null,
            "grid_auto_rows": null,
            "grid_column": null,
            "grid_gap": null,
            "grid_row": null,
            "grid_template_areas": null,
            "grid_template_columns": null,
            "grid_template_rows": null,
            "height": null,
            "justify_content": null,
            "justify_items": null,
            "left": null,
            "margin": null,
            "max_height": null,
            "max_width": null,
            "min_height": null,
            "min_width": null,
            "object_fit": null,
            "object_position": null,
            "order": null,
            "overflow": null,
            "overflow_x": null,
            "overflow_y": null,
            "padding": null,
            "right": null,
            "top": null,
            "visibility": null,
            "width": null
          }
        },
        "0b07908f3c14403194f7d5c3060b865f": {
          "model_module": "@jupyter-widgets/base",
          "model_name": "LayoutModel",
          "model_module_version": "1.2.0",
          "state": {
            "_model_module": "@jupyter-widgets/base",
            "_model_module_version": "1.2.0",
            "_model_name": "LayoutModel",
            "_view_count": null,
            "_view_module": "@jupyter-widgets/base",
            "_view_module_version": "1.2.0",
            "_view_name": "LayoutView",
            "align_content": null,
            "align_items": null,
            "align_self": null,
            "border": null,
            "bottom": null,
            "display": null,
            "flex": null,
            "flex_flow": null,
            "grid_area": null,
            "grid_auto_columns": null,
            "grid_auto_flow": null,
            "grid_auto_rows": null,
            "grid_column": null,
            "grid_gap": null,
            "grid_row": null,
            "grid_template_areas": null,
            "grid_template_columns": null,
            "grid_template_rows": null,
            "height": null,
            "justify_content": null,
            "justify_items": null,
            "left": null,
            "margin": null,
            "max_height": null,
            "max_width": null,
            "min_height": null,
            "min_width": null,
            "object_fit": null,
            "object_position": null,
            "order": null,
            "overflow": null,
            "overflow_x": null,
            "overflow_y": null,
            "padding": null,
            "right": null,
            "top": null,
            "visibility": null,
            "width": null
          }
        },
        "43a05145f83c4294bc88cc49438533e4": {
          "model_module": "@jupyter-widgets/controls",
          "model_name": "DescriptionStyleModel",
          "model_module_version": "1.5.0",
          "state": {
            "_model_module": "@jupyter-widgets/controls",
            "_model_module_version": "1.5.0",
            "_model_name": "DescriptionStyleModel",
            "_view_count": null,
            "_view_module": "@jupyter-widgets/base",
            "_view_module_version": "1.2.0",
            "_view_name": "StyleView",
            "description_width": ""
          }
        },
        "b661491462994ce68087b910a7bb74b9": {
          "model_module": "@jupyter-widgets/base",
          "model_name": "LayoutModel",
          "model_module_version": "1.2.0",
          "state": {
            "_model_module": "@jupyter-widgets/base",
            "_model_module_version": "1.2.0",
            "_model_name": "LayoutModel",
            "_view_count": null,
            "_view_module": "@jupyter-widgets/base",
            "_view_module_version": "1.2.0",
            "_view_name": "LayoutView",
            "align_content": null,
            "align_items": null,
            "align_self": null,
            "border": null,
            "bottom": null,
            "display": null,
            "flex": null,
            "flex_flow": null,
            "grid_area": null,
            "grid_auto_columns": null,
            "grid_auto_flow": null,
            "grid_auto_rows": null,
            "grid_column": null,
            "grid_gap": null,
            "grid_row": null,
            "grid_template_areas": null,
            "grid_template_columns": null,
            "grid_template_rows": null,
            "height": null,
            "justify_content": null,
            "justify_items": null,
            "left": null,
            "margin": null,
            "max_height": null,
            "max_width": null,
            "min_height": null,
            "min_width": null,
            "object_fit": null,
            "object_position": null,
            "order": null,
            "overflow": null,
            "overflow_x": null,
            "overflow_y": null,
            "padding": null,
            "right": null,
            "top": null,
            "visibility": null,
            "width": null
          }
        },
        "cc05d8f9b66547f8b661c130024a63eb": {
          "model_module": "@jupyter-widgets/controls",
          "model_name": "ProgressStyleModel",
          "model_module_version": "1.5.0",
          "state": {
            "_model_module": "@jupyter-widgets/controls",
            "_model_module_version": "1.5.0",
            "_model_name": "ProgressStyleModel",
            "_view_count": null,
            "_view_module": "@jupyter-widgets/base",
            "_view_module_version": "1.2.0",
            "_view_name": "StyleView",
            "bar_color": null,
            "description_width": ""
          }
        },
        "b74856eb29574c3386f7013f32e841cb": {
          "model_module": "@jupyter-widgets/base",
          "model_name": "LayoutModel",
          "model_module_version": "1.2.0",
          "state": {
            "_model_module": "@jupyter-widgets/base",
            "_model_module_version": "1.2.0",
            "_model_name": "LayoutModel",
            "_view_count": null,
            "_view_module": "@jupyter-widgets/base",
            "_view_module_version": "1.2.0",
            "_view_name": "LayoutView",
            "align_content": null,
            "align_items": null,
            "align_self": null,
            "border": null,
            "bottom": null,
            "display": null,
            "flex": null,
            "flex_flow": null,
            "grid_area": null,
            "grid_auto_columns": null,
            "grid_auto_flow": null,
            "grid_auto_rows": null,
            "grid_column": null,
            "grid_gap": null,
            "grid_row": null,
            "grid_template_areas": null,
            "grid_template_columns": null,
            "grid_template_rows": null,
            "height": null,
            "justify_content": null,
            "justify_items": null,
            "left": null,
            "margin": null,
            "max_height": null,
            "max_width": null,
            "min_height": null,
            "min_width": null,
            "object_fit": null,
            "object_position": null,
            "order": null,
            "overflow": null,
            "overflow_x": null,
            "overflow_y": null,
            "padding": null,
            "right": null,
            "top": null,
            "visibility": null,
            "width": null
          }
        },
        "0f2f4c69eec84b7f9045422fc99036ba": {
          "model_module": "@jupyter-widgets/controls",
          "model_name": "DescriptionStyleModel",
          "model_module_version": "1.5.0",
          "state": {
            "_model_module": "@jupyter-widgets/controls",
            "_model_module_version": "1.5.0",
            "_model_name": "DescriptionStyleModel",
            "_view_count": null,
            "_view_module": "@jupyter-widgets/base",
            "_view_module_version": "1.2.0",
            "_view_name": "StyleView",
            "description_width": ""
          }
        }
      }
    }
  },
  "cells": [
    {
      "cell_type": "markdown",
      "source": [
        "# Enhancing Khmer Sentiment Analysis Using Transformer Models"
      ],
      "metadata": {
        "id": "LepvqXKEXLNB"
      }
    },
    {
      "cell_type": "markdown",
      "source": [
        "# Install Dependencies"
      ],
      "metadata": {
        "id": "4i2nL23lM8fl"
      }
    },
    {
      "cell_type": "markdown",
      "source": [
        "## For Word Segmentation"
      ],
      "metadata": {
        "id": "Yz3vxBacNHCT"
      }
    },
    {
      "cell_type": "code",
      "execution_count": null,
      "metadata": {
        "colab": {
          "base_uri": "https://localhost:8080/"
        },
        "id": "pN0dPp5GMHLY",
        "outputId": "6d1126ae-349b-4c1e-b263-f820ebd1b421"
      },
      "outputs": [
        {
          "output_type": "stream",
          "name": "stdout",
          "text": [
            "fatal: destination path 'KhmerNLP' already exists and is not an empty directory.\n"
          ]
        }
      ],
      "source": [
        "! git clone https://github.com/rinabuoy/KhmerNLP"
      ]
    },
    {
      "cell_type": "code",
      "source": [
        "%cd KhmerNLP"
      ],
      "metadata": {
        "colab": {
          "base_uri": "https://localhost:8080/"
        },
        "id": "mvofD0izNlRA",
        "outputId": "143551ab-73f5-4e42-8498-da986c8d153e"
      },
      "execution_count": null,
      "outputs": [
        {
          "output_type": "stream",
          "name": "stdout",
          "text": [
            "/content/KhmerNLP\n"
          ]
        }
      ]
    },
    {
      "cell_type": "code",
      "source": [
        "!pip install sklearn_crfsuite"
      ],
      "metadata": {
        "colab": {
          "base_uri": "https://localhost:8080/"
        },
        "id": "yoeKQCDfNq7_",
        "outputId": "969aea5c-7fc8-4908-c814-91bf1c21f077"
      },
      "execution_count": null,
      "outputs": [
        {
          "output_type": "stream",
          "name": "stdout",
          "text": [
            "Collecting sklearn_crfsuite\n",
            "  Downloading sklearn_crfsuite-0.5.0-py2.py3-none-any.whl.metadata (4.9 kB)\n",
            "Collecting python-crfsuite>=0.9.7 (from sklearn_crfsuite)\n",
            "  Downloading python_crfsuite-0.9.11-cp311-cp311-manylinux_2_17_x86_64.manylinux2014_x86_64.whl.metadata (4.3 kB)\n",
            "Requirement already satisfied: scikit-learn>=0.24.0 in /usr/local/lib/python3.11/dist-packages (from sklearn_crfsuite) (1.6.0)\n",
            "Requirement already satisfied: tabulate>=0.4.2 in /usr/local/lib/python3.11/dist-packages (from sklearn_crfsuite) (0.9.0)\n",
            "Requirement already satisfied: tqdm>=2.0 in /usr/local/lib/python3.11/dist-packages (from sklearn_crfsuite) (4.67.1)\n",
            "Requirement already satisfied: numpy>=1.19.5 in /usr/local/lib/python3.11/dist-packages (from scikit-learn>=0.24.0->sklearn_crfsuite) (1.26.4)\n",
            "Requirement already satisfied: scipy>=1.6.0 in /usr/local/lib/python3.11/dist-packages (from scikit-learn>=0.24.0->sklearn_crfsuite) (1.13.1)\n",
            "Requirement already satisfied: joblib>=1.2.0 in /usr/local/lib/python3.11/dist-packages (from scikit-learn>=0.24.0->sklearn_crfsuite) (1.4.2)\n",
            "Requirement already satisfied: threadpoolctl>=3.1.0 in /usr/local/lib/python3.11/dist-packages (from scikit-learn>=0.24.0->sklearn_crfsuite) (3.5.0)\n",
            "Downloading sklearn_crfsuite-0.5.0-py2.py3-none-any.whl (10 kB)\n",
            "Downloading python_crfsuite-0.9.11-cp311-cp311-manylinux_2_17_x86_64.manylinux2014_x86_64.whl (1.3 MB)\n",
            "\u001b[2K   \u001b[90m━━━━━━━━━━━━━━━━━━━━━━━━━━━━━━━━━━━━━━━━\u001b[0m \u001b[32m1.3/1.3 MB\u001b[0m \u001b[31m25.4 MB/s\u001b[0m eta \u001b[36m0:00:00\u001b[0m\n",
            "\u001b[?25hInstalling collected packages: python-crfsuite, sklearn_crfsuite\n",
            "Successfully installed python-crfsuite-0.9.11 sklearn_crfsuite-0.5.0\n"
          ]
        }
      ]
    },
    {
      "cell_type": "code",
      "source": [
        "import os\n",
        "from transformers import TFAutoModel,AutoTokenizer,BertModel,AdamW,XLMRobertaTokenizer,XLMRobertaForSequenceClassification, Trainer, TrainingArguments,XLMRobertaModel\n",
        "import torch\n",
        "import torch.nn as nn\n",
        "from torch.utils.data import Dataset, DataLoader\n",
        "from torch.optim import Adam\n",
        "from sklearn.metrics import classification_report, confusion_matrix\n",
        "#from khmerwordsegmentor import KhmerWordSegmentor\n",
        "import pandas as pd\n",
        "import numpy as np\n",
        "import seaborn as sns\n",
        "import matplotlib.pyplot as plt\n",
        "from sklearn.model_selection import train_test_split\n",
        "from torch.utils.data import Dataset, DataLoader\n",
        "from torch.optim import Adam\n",
        "from sklearn.metrics import classification_report, confusion_matrix\n",
        "from tqdm import tqdm"
      ],
      "metadata": {
        "id": "mjyRjUoTNvOY"
      },
      "execution_count": null,
      "outputs": []
    },
    {
      "cell_type": "markdown",
      "source": [
        "# Load Data and Preprocessing"
      ],
      "metadata": {
        "id": "YGqR7f6Xyp_D"
      }
    },
    {
      "cell_type": "code",
      "source": [
        "data = pd.read_csv('/content/kh_sentiment_data_segmented (1).csv')"
      ],
      "metadata": {
        "id": "loeFJq8VOZGo"
      },
      "execution_count": null,
      "outputs": []
    },
    {
      "cell_type": "code",
      "source": [
        "data.head(10)"
      ],
      "metadata": {
        "colab": {
          "base_uri": "https://localhost:8080/",
          "height": 362
        },
        "id": "c0aAKc43y5c9",
        "outputId": "570c3215-7330-4e30-89ac-52b275c57858"
      },
      "execution_count": null,
      "outputs": [
        {
          "output_type": "execute_result",
          "data": {
            "text/plain": [
              "   ID                                                Text Sentiment_text  \\\n",
              "0    1                                    ខ្ញុំចូលចិត្តវា      Positive    \n",
              "1    2                                 ផលិតផលនេះគុណភាពល្អ      Positive    \n",
              "2    3                      ប្រើប្រាស់មិនបានយូ ហើយថ្លៃទៀត       Negative   \n",
              "3    4                            នៅតែពេញនិយមស្តាប់មិនធុញ      Positive    \n",
              "4    5      ខ្ញុំអត់ចូលចិត្តត្រង់ កាមេរ៉ា មហាអន់ និយាយមែន       Negative   \n",
              "5    6                 ខ្ញុំអត់ពេញចិត្តរូប១សន្លឹកដែលថតនោះ       Negative   \n",
              "6    7                               ផលិតបានល្អខ្លាំងណាស់      Positive    \n",
              "7    8                        ខ្ញុំស្ដាប់10ដងហើយនៅតែពិរស់      Positive    \n",
              "8    9  អ្នកបើកបរមានសុជីវធម៍ល្អ លើកក្រោយចង់ជិះជាមួយគាត...      Positive    \n",
              "9   10  សូមខំមិនរឿងអ្នកបើកបរម្សិលមិញពីសៀមរាបមកភ្នំពេញម...       Negative   \n",
              "\n",
              "   Sentiment_label                                      seg_text_lstm  \\\n",
              "0              1.0                                  ខ្ញុំ ចូលចិត្ត វា   \n",
              "1              1.0                              ផលិតផល នេះ គុណភាព ល្អ   \n",
              "2              0.0                  ប្រើប្រាស់ មិន បាន យូហើយ ថ្លៃ ទៀត   \n",
              "3              1.0                        នៅតែ ពេញនិយម ស្តាប់ មិន ធុញ   \n",
              "4              0.0  ខ្ញុំ អត់ ចូលចិត្ត ត្រង់ កាមេរ៉ា មហា អន់ និយាយ...   \n",
              "5              0.0         ខ្ញុំ អត់ ពេញចិត្ត រូប ១ សន្លឹក ដែល ថត នោះ   \n",
              "6              1.0                           ផលិត បាន ល្អ ខ្លាំង ណាស់   \n",
              "7              1.0                  ខ្ញុំ ស្ដាប់ 10 ដង ហើយ នៅតែ ពិរស់   \n",
              "8              1.0  អ្នកបើកបរ មាន សុជីវធម៍ ល្អ លើក ក្រោយ ចង់ ជិះ ជ...   \n",
              "9              0.0  សូម ខំ មិន រឿង អ្នកបើកបរ ម្សិលមិញ ពី សៀមរាប មក...   \n",
              "\n",
              "                                        seg_text_crf  \n",
              "0                                  ខ្ញុំ ចូលចិត្ត វា  \n",
              "1                              ផលិតផល នេះ គុណភាព ល្អ  \n",
              "2                  ប្រើប្រាស់ មិន បាន យូហើយ ថ្លៃ ទៀត  \n",
              "3                        នៅតែ ពេញនិយម ស្តាប់ មិន ធុញ  \n",
              "4  ខ្ញុំ អត់ ចូលចិត្ត ត្រង់ កាមេរ៉ា មហា អន់ និយាយ...  \n",
              "5         ខ្ញុំ អត់ ពេញចិត្ត រូប ១ សន្លឹក ដែល ថត នោះ  \n",
              "6                           ផលិត បាន ល្អ ខ្លាំង ណាស់  \n",
              "7                  ខ្ញុំ ស្ដាប់ 10 ដង ហើយ នៅតែ ពិរស់  \n",
              "8  អ្នកបើកបរ មាន សុជីវធម៍ ល្អ លើក ក្រោយ ចង់ ជិះ ជ...  \n",
              "9  សូម ខំ មិន រឿង អ្នកបើកបរ ម្សិលមិញ ពី សៀមរាប មក...  "
            ],
            "text/html": [
              "\n",
              "  <div id=\"df-eebde2cb-16ee-41b5-8b13-a696b41c6c1a\" class=\"colab-df-container\">\n",
              "    <div>\n",
              "<style scoped>\n",
              "    .dataframe tbody tr th:only-of-type {\n",
              "        vertical-align: middle;\n",
              "    }\n",
              "\n",
              "    .dataframe tbody tr th {\n",
              "        vertical-align: top;\n",
              "    }\n",
              "\n",
              "    .dataframe thead th {\n",
              "        text-align: right;\n",
              "    }\n",
              "</style>\n",
              "<table border=\"1\" class=\"dataframe\">\n",
              "  <thead>\n",
              "    <tr style=\"text-align: right;\">\n",
              "      <th></th>\n",
              "      <th>ID</th>\n",
              "      <th>Text</th>\n",
              "      <th>Sentiment_text</th>\n",
              "      <th>Sentiment_label</th>\n",
              "      <th>seg_text_lstm</th>\n",
              "      <th>seg_text_crf</th>\n",
              "    </tr>\n",
              "  </thead>\n",
              "  <tbody>\n",
              "    <tr>\n",
              "      <th>0</th>\n",
              "      <td>1</td>\n",
              "      <td>ខ្ញុំចូលចិត្តវា</td>\n",
              "      <td>Positive</td>\n",
              "      <td>1.0</td>\n",
              "      <td>ខ្ញុំ ចូលចិត្ត វា</td>\n",
              "      <td>ខ្ញុំ ចូលចិត្ត វា</td>\n",
              "    </tr>\n",
              "    <tr>\n",
              "      <th>1</th>\n",
              "      <td>2</td>\n",
              "      <td>ផលិតផលនេះគុណភាពល្អ</td>\n",
              "      <td>Positive</td>\n",
              "      <td>1.0</td>\n",
              "      <td>ផលិតផល នេះ គុណភាព ល្អ</td>\n",
              "      <td>ផលិតផល នេះ គុណភាព ល្អ</td>\n",
              "    </tr>\n",
              "    <tr>\n",
              "      <th>2</th>\n",
              "      <td>3</td>\n",
              "      <td>ប្រើប្រាស់មិនបានយូ ហើយថ្លៃទៀត</td>\n",
              "      <td>Negative</td>\n",
              "      <td>0.0</td>\n",
              "      <td>ប្រើប្រាស់ មិន បាន យូហើយ ថ្លៃ ទៀត</td>\n",
              "      <td>ប្រើប្រាស់ មិន បាន យូហើយ ថ្លៃ ទៀត</td>\n",
              "    </tr>\n",
              "    <tr>\n",
              "      <th>3</th>\n",
              "      <td>4</td>\n",
              "      <td>នៅតែពេញនិយមស្តាប់មិនធុញ</td>\n",
              "      <td>Positive</td>\n",
              "      <td>1.0</td>\n",
              "      <td>នៅតែ ពេញនិយម ស្តាប់ មិន ធុញ</td>\n",
              "      <td>នៅតែ ពេញនិយម ស្តាប់ មិន ធុញ</td>\n",
              "    </tr>\n",
              "    <tr>\n",
              "      <th>4</th>\n",
              "      <td>5</td>\n",
              "      <td>ខ្ញុំអត់ចូលចិត្តត្រង់ កាមេរ៉ា មហាអន់ និយាយមែន</td>\n",
              "      <td>Negative</td>\n",
              "      <td>0.0</td>\n",
              "      <td>ខ្ញុំ អត់ ចូលចិត្ត ត្រង់ កាមេរ៉ា មហា អន់ និយាយ...</td>\n",
              "      <td>ខ្ញុំ អត់ ចូលចិត្ត ត្រង់ កាមេរ៉ា មហា អន់ និយាយ...</td>\n",
              "    </tr>\n",
              "    <tr>\n",
              "      <th>5</th>\n",
              "      <td>6</td>\n",
              "      <td>ខ្ញុំអត់ពេញចិត្តរូប១សន្លឹកដែលថតនោះ</td>\n",
              "      <td>Negative</td>\n",
              "      <td>0.0</td>\n",
              "      <td>ខ្ញុំ អត់ ពេញចិត្ត រូប ១ សន្លឹក ដែល ថត នោះ</td>\n",
              "      <td>ខ្ញុំ អត់ ពេញចិត្ត រូប ១ សន្លឹក ដែល ថត នោះ</td>\n",
              "    </tr>\n",
              "    <tr>\n",
              "      <th>6</th>\n",
              "      <td>7</td>\n",
              "      <td>ផលិតបានល្អខ្លាំងណាស់</td>\n",
              "      <td>Positive</td>\n",
              "      <td>1.0</td>\n",
              "      <td>ផលិត បាន ល្អ ខ្លាំង ណាស់</td>\n",
              "      <td>ផលិត បាន ល្អ ខ្លាំង ណាស់</td>\n",
              "    </tr>\n",
              "    <tr>\n",
              "      <th>7</th>\n",
              "      <td>8</td>\n",
              "      <td>ខ្ញុំស្ដាប់10ដងហើយនៅតែពិរស់</td>\n",
              "      <td>Positive</td>\n",
              "      <td>1.0</td>\n",
              "      <td>ខ្ញុំ ស្ដាប់ 10 ដង ហើយ នៅតែ ពិរស់</td>\n",
              "      <td>ខ្ញុំ ស្ដាប់ 10 ដង ហើយ នៅតែ ពិរស់</td>\n",
              "    </tr>\n",
              "    <tr>\n",
              "      <th>8</th>\n",
              "      <td>9</td>\n",
              "      <td>អ្នកបើកបរមានសុជីវធម៍ល្អ លើកក្រោយចង់ជិះជាមួយគាត...</td>\n",
              "      <td>Positive</td>\n",
              "      <td>1.0</td>\n",
              "      <td>អ្នកបើកបរ មាន សុជីវធម៍ ល្អ លើក ក្រោយ ចង់ ជិះ ជ...</td>\n",
              "      <td>អ្នកបើកបរ មាន សុជីវធម៍ ល្អ លើក ក្រោយ ចង់ ជិះ ជ...</td>\n",
              "    </tr>\n",
              "    <tr>\n",
              "      <th>9</th>\n",
              "      <td>10</td>\n",
              "      <td>សូមខំមិនរឿងអ្នកបើកបរម្សិលមិញពីសៀមរាបមកភ្នំពេញម...</td>\n",
              "      <td>Negative</td>\n",
              "      <td>0.0</td>\n",
              "      <td>សូម ខំ មិន រឿង អ្នកបើកបរ ម្សិលមិញ ពី សៀមរាប មក...</td>\n",
              "      <td>សូម ខំ មិន រឿង អ្នកបើកបរ ម្សិលមិញ ពី សៀមរាប មក...</td>\n",
              "    </tr>\n",
              "  </tbody>\n",
              "</table>\n",
              "</div>\n",
              "    <div class=\"colab-df-buttons\">\n",
              "\n",
              "  <div class=\"colab-df-container\">\n",
              "    <button class=\"colab-df-convert\" onclick=\"convertToInteractive('df-eebde2cb-16ee-41b5-8b13-a696b41c6c1a')\"\n",
              "            title=\"Convert this dataframe to an interactive table.\"\n",
              "            style=\"display:none;\">\n",
              "\n",
              "  <svg xmlns=\"http://www.w3.org/2000/svg\" height=\"24px\" viewBox=\"0 -960 960 960\">\n",
              "    <path d=\"M120-120v-720h720v720H120Zm60-500h600v-160H180v160Zm220 220h160v-160H400v160Zm0 220h160v-160H400v160ZM180-400h160v-160H180v160Zm440 0h160v-160H620v160ZM180-180h160v-160H180v160Zm440 0h160v-160H620v160Z\"/>\n",
              "  </svg>\n",
              "    </button>\n",
              "\n",
              "  <style>\n",
              "    .colab-df-container {\n",
              "      display:flex;\n",
              "      gap: 12px;\n",
              "    }\n",
              "\n",
              "    .colab-df-convert {\n",
              "      background-color: #E8F0FE;\n",
              "      border: none;\n",
              "      border-radius: 50%;\n",
              "      cursor: pointer;\n",
              "      display: none;\n",
              "      fill: #1967D2;\n",
              "      height: 32px;\n",
              "      padding: 0 0 0 0;\n",
              "      width: 32px;\n",
              "    }\n",
              "\n",
              "    .colab-df-convert:hover {\n",
              "      background-color: #E2EBFA;\n",
              "      box-shadow: 0px 1px 2px rgba(60, 64, 67, 0.3), 0px 1px 3px 1px rgba(60, 64, 67, 0.15);\n",
              "      fill: #174EA6;\n",
              "    }\n",
              "\n",
              "    .colab-df-buttons div {\n",
              "      margin-bottom: 4px;\n",
              "    }\n",
              "\n",
              "    [theme=dark] .colab-df-convert {\n",
              "      background-color: #3B4455;\n",
              "      fill: #D2E3FC;\n",
              "    }\n",
              "\n",
              "    [theme=dark] .colab-df-convert:hover {\n",
              "      background-color: #434B5C;\n",
              "      box-shadow: 0px 1px 3px 1px rgba(0, 0, 0, 0.15);\n",
              "      filter: drop-shadow(0px 1px 2px rgba(0, 0, 0, 0.3));\n",
              "      fill: #FFFFFF;\n",
              "    }\n",
              "  </style>\n",
              "\n",
              "    <script>\n",
              "      const buttonEl =\n",
              "        document.querySelector('#df-eebde2cb-16ee-41b5-8b13-a696b41c6c1a button.colab-df-convert');\n",
              "      buttonEl.style.display =\n",
              "        google.colab.kernel.accessAllowed ? 'block' : 'none';\n",
              "\n",
              "      async function convertToInteractive(key) {\n",
              "        const element = document.querySelector('#df-eebde2cb-16ee-41b5-8b13-a696b41c6c1a');\n",
              "        const dataTable =\n",
              "          await google.colab.kernel.invokeFunction('convertToInteractive',\n",
              "                                                    [key], {});\n",
              "        if (!dataTable) return;\n",
              "\n",
              "        const docLinkHtml = 'Like what you see? Visit the ' +\n",
              "          '<a target=\"_blank\" href=https://colab.research.google.com/notebooks/data_table.ipynb>data table notebook</a>'\n",
              "          + ' to learn more about interactive tables.';\n",
              "        element.innerHTML = '';\n",
              "        dataTable['output_type'] = 'display_data';\n",
              "        await google.colab.output.renderOutput(dataTable, element);\n",
              "        const docLink = document.createElement('div');\n",
              "        docLink.innerHTML = docLinkHtml;\n",
              "        element.appendChild(docLink);\n",
              "      }\n",
              "    </script>\n",
              "  </div>\n",
              "\n",
              "\n",
              "<div id=\"df-e2b895cf-e508-41e7-84d4-030055cb86d2\">\n",
              "  <button class=\"colab-df-quickchart\" onclick=\"quickchart('df-e2b895cf-e508-41e7-84d4-030055cb86d2')\"\n",
              "            title=\"Suggest charts\"\n",
              "            style=\"display:none;\">\n",
              "\n",
              "<svg xmlns=\"http://www.w3.org/2000/svg\" height=\"24px\"viewBox=\"0 0 24 24\"\n",
              "     width=\"24px\">\n",
              "    <g>\n",
              "        <path d=\"M19 3H5c-1.1 0-2 .9-2 2v14c0 1.1.9 2 2 2h14c1.1 0 2-.9 2-2V5c0-1.1-.9-2-2-2zM9 17H7v-7h2v7zm4 0h-2V7h2v10zm4 0h-2v-4h2v4z\"/>\n",
              "    </g>\n",
              "</svg>\n",
              "  </button>\n",
              "\n",
              "<style>\n",
              "  .colab-df-quickchart {\n",
              "      --bg-color: #E8F0FE;\n",
              "      --fill-color: #1967D2;\n",
              "      --hover-bg-color: #E2EBFA;\n",
              "      --hover-fill-color: #174EA6;\n",
              "      --disabled-fill-color: #AAA;\n",
              "      --disabled-bg-color: #DDD;\n",
              "  }\n",
              "\n",
              "  [theme=dark] .colab-df-quickchart {\n",
              "      --bg-color: #3B4455;\n",
              "      --fill-color: #D2E3FC;\n",
              "      --hover-bg-color: #434B5C;\n",
              "      --hover-fill-color: #FFFFFF;\n",
              "      --disabled-bg-color: #3B4455;\n",
              "      --disabled-fill-color: #666;\n",
              "  }\n",
              "\n",
              "  .colab-df-quickchart {\n",
              "    background-color: var(--bg-color);\n",
              "    border: none;\n",
              "    border-radius: 50%;\n",
              "    cursor: pointer;\n",
              "    display: none;\n",
              "    fill: var(--fill-color);\n",
              "    height: 32px;\n",
              "    padding: 0;\n",
              "    width: 32px;\n",
              "  }\n",
              "\n",
              "  .colab-df-quickchart:hover {\n",
              "    background-color: var(--hover-bg-color);\n",
              "    box-shadow: 0 1px 2px rgba(60, 64, 67, 0.3), 0 1px 3px 1px rgba(60, 64, 67, 0.15);\n",
              "    fill: var(--button-hover-fill-color);\n",
              "  }\n",
              "\n",
              "  .colab-df-quickchart-complete:disabled,\n",
              "  .colab-df-quickchart-complete:disabled:hover {\n",
              "    background-color: var(--disabled-bg-color);\n",
              "    fill: var(--disabled-fill-color);\n",
              "    box-shadow: none;\n",
              "  }\n",
              "\n",
              "  .colab-df-spinner {\n",
              "    border: 2px solid var(--fill-color);\n",
              "    border-color: transparent;\n",
              "    border-bottom-color: var(--fill-color);\n",
              "    animation:\n",
              "      spin 1s steps(1) infinite;\n",
              "  }\n",
              "\n",
              "  @keyframes spin {\n",
              "    0% {\n",
              "      border-color: transparent;\n",
              "      border-bottom-color: var(--fill-color);\n",
              "      border-left-color: var(--fill-color);\n",
              "    }\n",
              "    20% {\n",
              "      border-color: transparent;\n",
              "      border-left-color: var(--fill-color);\n",
              "      border-top-color: var(--fill-color);\n",
              "    }\n",
              "    30% {\n",
              "      border-color: transparent;\n",
              "      border-left-color: var(--fill-color);\n",
              "      border-top-color: var(--fill-color);\n",
              "      border-right-color: var(--fill-color);\n",
              "    }\n",
              "    40% {\n",
              "      border-color: transparent;\n",
              "      border-right-color: var(--fill-color);\n",
              "      border-top-color: var(--fill-color);\n",
              "    }\n",
              "    60% {\n",
              "      border-color: transparent;\n",
              "      border-right-color: var(--fill-color);\n",
              "    }\n",
              "    80% {\n",
              "      border-color: transparent;\n",
              "      border-right-color: var(--fill-color);\n",
              "      border-bottom-color: var(--fill-color);\n",
              "    }\n",
              "    90% {\n",
              "      border-color: transparent;\n",
              "      border-bottom-color: var(--fill-color);\n",
              "    }\n",
              "  }\n",
              "</style>\n",
              "\n",
              "  <script>\n",
              "    async function quickchart(key) {\n",
              "      const quickchartButtonEl =\n",
              "        document.querySelector('#' + key + ' button');\n",
              "      quickchartButtonEl.disabled = true;  // To prevent multiple clicks.\n",
              "      quickchartButtonEl.classList.add('colab-df-spinner');\n",
              "      try {\n",
              "        const charts = await google.colab.kernel.invokeFunction(\n",
              "            'suggestCharts', [key], {});\n",
              "      } catch (error) {\n",
              "        console.error('Error during call to suggestCharts:', error);\n",
              "      }\n",
              "      quickchartButtonEl.classList.remove('colab-df-spinner');\n",
              "      quickchartButtonEl.classList.add('colab-df-quickchart-complete');\n",
              "    }\n",
              "    (() => {\n",
              "      let quickchartButtonEl =\n",
              "        document.querySelector('#df-e2b895cf-e508-41e7-84d4-030055cb86d2 button');\n",
              "      quickchartButtonEl.style.display =\n",
              "        google.colab.kernel.accessAllowed ? 'block' : 'none';\n",
              "    })();\n",
              "  </script>\n",
              "</div>\n",
              "\n",
              "    </div>\n",
              "  </div>\n"
            ],
            "application/vnd.google.colaboratory.intrinsic+json": {
              "type": "dataframe",
              "variable_name": "data",
              "summary": "{\n  \"name\": \"data\",\n  \"rows\": 1114,\n  \"fields\": [\n    {\n      \"column\": \"ID \",\n      \"properties\": {\n        \"dtype\": \"number\",\n        \"std\": 328,\n        \"min\": 1,\n        \"max\": 1133,\n        \"num_unique_values\": 1114,\n        \"samples\": [\n          899,\n          102,\n          1131\n        ],\n        \"semantic_type\": \"\",\n        \"description\": \"\"\n      }\n    },\n    {\n      \"column\": \"Text\",\n      \"properties\": {\n        \"dtype\": \"category\",\n        \"num_unique_values\": 305,\n        \"samples\": [\n          \"\\u1798\\u17c9\\u17bc\\u178f\\u17bc\\u1798\\u17c9\\u17b6\\u1780\\u1790\\u17d2\\u1798\\u17b8\\u1793\\u17c1\\u17c7\\u1794\\u17be\\u1780\\u179f\\u17d2\\u179a\\u17bd\\u179b \\u179f\\u1793\\u17d2\\u179f\\u17c6\\u179f\\u17c6\\u1785\\u17c3\\u1794\\u17d2\\u179a\\u17c1\\u1784\\u179f\\u17b6\\u17c6\\u1784\",\n          \"\\u178f\\u1793\\u17d2\\u178f\\u17d2\\u179a\\u17b8\\u1793\\u17c5\\u1780\\u17d2\\u179b\\u17b9\\u1794\\u1793\\u17c1\\u17c7\\u17ae\\u1781\\u17d2\\u179b\\u17b6\\u17c6\\u1784\\u1796\\u17c1\\u1780 \\u1798\\u17b7\\u1793\\u17a2\\u17b6\\u1785\\u1787\\u1787\\u17c2\\u1780\\u1782\\u17d2\\u1793\\u17b6\\u1794\\u17b6\\u1793\",\n          \"\\u1794\\u179a\\u17b7\\u1799\\u17b6\\u1780\\u17b6\\u179f\\u1793\\u17c5\\u17a0\\u17b6\\u1784\\u1793\\u17c1\\u17c7\\u179b\\u17d2\\u17a2\\u17a5\\u178f\\u1781\\u17d2\\u1785\\u17c4\\u17c7\\u17d4\"\n        ],\n        \"semantic_type\": \"\",\n        \"description\": \"\"\n      }\n    },\n    {\n      \"column\": \"Sentiment_text\",\n      \"properties\": {\n        \"dtype\": \"category\",\n        \"num_unique_values\": 4,\n        \"samples\": [\n          \"Negative\",\n          \"Negative \",\n          \"Positive \"\n        ],\n        \"semantic_type\": \"\",\n        \"description\": \"\"\n      }\n    },\n    {\n      \"column\": \"Sentiment_label\",\n      \"properties\": {\n        \"dtype\": \"number\",\n        \"std\": 0.49880046322802507,\n        \"min\": 0.0,\n        \"max\": 1.0,\n        \"num_unique_values\": 2,\n        \"samples\": [\n          0.0,\n          1.0\n        ],\n        \"semantic_type\": \"\",\n        \"description\": \"\"\n      }\n    },\n    {\n      \"column\": \"seg_text_lstm\",\n      \"properties\": {\n        \"dtype\": \"category\",\n        \"num_unique_values\": 305,\n        \"samples\": [\n          \"\\u1798\\u17c9\\u17bc\\u178f\\u17bc \\u1798\\u17c9\\u17b6\\u1780 \\u1790\\u17d2\\u1798\\u17b8 \\u1793\\u17c1\\u17c7 \\u1794\\u17be\\u1780 \\u179f\\u17d2\\u179a\\u17bd\\u179b \\u179f\\u1793\\u17d2\\u179f\\u17c6 \\u179f\\u17c6\\u1785\\u17c3 \\u1794\\u17d2\\u179a\\u17c1\\u1784\\u179f\\u17b6\\u17c6\\u1784\",\n          \"\\u178f\\u1793\\u17d2\\u178f\\u17d2\\u179a\\u17b8 \\u1793\\u17c5 \\u1780\\u17d2\\u179b\\u17b9\\u1794 \\u1793\\u17c1\\u17c7 \\u17ae \\u1781\\u17d2\\u179b\\u17b6\\u17c6\\u1784 \\u1796\\u17c1\\u1780 \\u1798\\u17b7\\u1793 \\u17a2\\u17b6\\u1785 \\u1787\\u1787\\u17c2\\u1780\\u1782\\u17d2\\u1793\\u17b6 \\u1794\\u17b6\\u1793\"\n        ],\n        \"semantic_type\": \"\",\n        \"description\": \"\"\n      }\n    },\n    {\n      \"column\": \"seg_text_crf\",\n      \"properties\": {\n        \"dtype\": \"category\",\n        \"num_unique_values\": 305,\n        \"samples\": [\n          \"\\u1798\\u17c9\\u17bc\\u178f\\u17bc \\u1798\\u17c9\\u17b6\\u1780 \\u1790\\u17d2\\u1798\\u17b8 \\u1793\\u17c1\\u17c7 \\u1794\\u17be\\u1780 \\u179f\\u17d2\\u179a\\u17bd\\u179b \\u179f\\u1793\\u17d2\\u179f\\u17c6 \\u179f\\u17c6\\u1785\\u17c3 \\u1794\\u17d2\\u179a\\u17c1\\u1784\\u179f\\u17b6\\u17c6\\u1784\",\n          \"\\u178f\\u1793\\u17d2\\u178f\\u17d2\\u179a\\u17b8 \\u1793\\u17c5 \\u1780\\u17d2\\u179b\\u17b9\\u1794 \\u1793\\u17c1\\u17c7 \\u17ae \\u1781\\u17d2\\u179b\\u17b6\\u17c6\\u1784 \\u1796\\u17c1\\u1780 \\u1798\\u17b7\\u1793 \\u17a2\\u17b6\\u1785 \\u1787\\u1787\\u17c2\\u1780\\u1782\\u17d2\\u1793\\u17b6 \\u1794\\u17b6\\u1793\"\n        ],\n        \"semantic_type\": \"\",\n        \"description\": \"\"\n      }\n    }\n  ]\n}"
            }
          },
          "metadata": {},
          "execution_count": 4
        }
      ]
    },
    {
      "cell_type": "code",
      "source": [],
      "metadata": {
        "id": "KdUVSenJr8PU"
      },
      "execution_count": null,
      "outputs": []
    },
    {
      "cell_type": "code",
      "source": [
        "data.isna().sum() #missing value"
      ],
      "metadata": {
        "colab": {
          "base_uri": "https://localhost:8080/",
          "height": 272
        },
        "id": "h8YlCW1DzB8K",
        "outputId": "afbe9d2e-1b3a-4495-e61e-0efa5c0245b3"
      },
      "execution_count": null,
      "outputs": [
        {
          "output_type": "execute_result",
          "data": {
            "text/plain": [
              "ID                 0\n",
              "Text               0\n",
              "Sentiment_text     0\n",
              "Sentiment_label    0\n",
              "seg_text_lstm      0\n",
              "seg_text_crf       0\n",
              "dtype: int64"
            ],
            "text/html": [
              "<div>\n",
              "<style scoped>\n",
              "    .dataframe tbody tr th:only-of-type {\n",
              "        vertical-align: middle;\n",
              "    }\n",
              "\n",
              "    .dataframe tbody tr th {\n",
              "        vertical-align: top;\n",
              "    }\n",
              "\n",
              "    .dataframe thead th {\n",
              "        text-align: right;\n",
              "    }\n",
              "</style>\n",
              "<table border=\"1\" class=\"dataframe\">\n",
              "  <thead>\n",
              "    <tr style=\"text-align: right;\">\n",
              "      <th></th>\n",
              "      <th>0</th>\n",
              "    </tr>\n",
              "  </thead>\n",
              "  <tbody>\n",
              "    <tr>\n",
              "      <th>ID</th>\n",
              "      <td>0</td>\n",
              "    </tr>\n",
              "    <tr>\n",
              "      <th>Text</th>\n",
              "      <td>0</td>\n",
              "    </tr>\n",
              "    <tr>\n",
              "      <th>Sentiment_text</th>\n",
              "      <td>0</td>\n",
              "    </tr>\n",
              "    <tr>\n",
              "      <th>Sentiment_label</th>\n",
              "      <td>0</td>\n",
              "    </tr>\n",
              "    <tr>\n",
              "      <th>seg_text_lstm</th>\n",
              "      <td>0</td>\n",
              "    </tr>\n",
              "    <tr>\n",
              "      <th>seg_text_crf</th>\n",
              "      <td>0</td>\n",
              "    </tr>\n",
              "  </tbody>\n",
              "</table>\n",
              "</div><br><label><b>dtype:</b> int64</label>"
            ]
          },
          "metadata": {},
          "execution_count": 5
        }
      ]
    },
    {
      "cell_type": "code",
      "source": [
        "data['Sentiment_label'].value_counts() # Check class label, prevent from imbalance class"
      ],
      "metadata": {
        "colab": {
          "base_uri": "https://localhost:8080/",
          "height": 178
        },
        "id": "2W8vGKI4zId3",
        "outputId": "e0107010-301d-4f13-bee3-8bf6891ba6ce"
      },
      "execution_count": null,
      "outputs": [
        {
          "output_type": "execute_result",
          "data": {
            "text/plain": [
              "Sentiment_label\n",
              "1.0    599\n",
              "0.0    515\n",
              "Name: count, dtype: int64"
            ],
            "text/html": [
              "<div>\n",
              "<style scoped>\n",
              "    .dataframe tbody tr th:only-of-type {\n",
              "        vertical-align: middle;\n",
              "    }\n",
              "\n",
              "    .dataframe tbody tr th {\n",
              "        vertical-align: top;\n",
              "    }\n",
              "\n",
              "    .dataframe thead th {\n",
              "        text-align: right;\n",
              "    }\n",
              "</style>\n",
              "<table border=\"1\" class=\"dataframe\">\n",
              "  <thead>\n",
              "    <tr style=\"text-align: right;\">\n",
              "      <th></th>\n",
              "      <th>count</th>\n",
              "    </tr>\n",
              "    <tr>\n",
              "      <th>Sentiment_label</th>\n",
              "      <th></th>\n",
              "    </tr>\n",
              "  </thead>\n",
              "  <tbody>\n",
              "    <tr>\n",
              "      <th>1.0</th>\n",
              "      <td>599</td>\n",
              "    </tr>\n",
              "    <tr>\n",
              "      <th>0.0</th>\n",
              "      <td>515</td>\n",
              "    </tr>\n",
              "  </tbody>\n",
              "</table>\n",
              "</div><br><label><b>dtype:</b> int64</label>"
            ]
          },
          "metadata": {},
          "execution_count": 6
        }
      ]
    },
    {
      "cell_type": "markdown",
      "source": [
        "# Word Segmentation"
      ],
      "metadata": {
        "id": "Vxs2VAvr1KLr"
      }
    },
    {
      "cell_type": "code",
      "source": [
        "# Initialize the segmentor\n",
        "seg = KhmerWordSegmentor()\n",
        "def segment_khmer_text(text, model=\"lstm\"):\n",
        "    \"\"\"\n",
        "    Segment Khmer text using the specified model (LSTM or CRF).\n",
        "\n",
        "    Parameters:\n",
        "        text (str): The input Khmer text to be segmented.\n",
        "        model (str): The model to use for segmentation ('lstm' or 'crf').\n",
        "\n",
        "    Returns:\n",
        "        str: The segmented text as a string.\n",
        "    \"\"\"\n",
        "    try:\n",
        "        # Segment the text\n",
        "        segmented_text = seg.segment(text, model=model)\n",
        "        return segmented_text\n",
        "    except Exception as e:\n",
        "        print(f\"Error during segmentation: {e}\")\n",
        "        return \"\""
      ],
      "metadata": {
        "colab": {
          "base_uri": "https://localhost:8080/"
        },
        "id": "_rUIyrwbzUuZ",
        "outputId": "e756f060-202e-44d9-ce41-1ebd376cd0ea"
      },
      "execution_count": null,
      "outputs": [
        {
          "output_type": "stream",
          "name": "stdout",
          "text": [
            "Inference on GPU!\n"
          ]
        },
        {
          "output_type": "stream",
          "name": "stderr",
          "text": [
            "/content/KhmerNLP/khmerwordsegmentor.py:34: FutureWarning: You are using `torch.load` with `weights_only=False` (the current default value), which uses the default pickle module implicitly. It is possible to construct malicious pickle data which will execute arbitrary code during unpickling (See https://github.com/pytorch/pytorch/blob/main/SECURITY.md#untrusted-models for more details). In a future release, the default value for `weights_only` will be flipped to `True`. This limits the functions that could be executed during unpickling. Arbitrary objects will no longer be allowed to be loaded via this mode unless they are explicitly allowlisted by the user via `torch.serialization.add_safe_globals`. We recommend you start setting `weights_only=True` for any use case where you don't have full control of the loaded file. Please open an issue on GitHub for any issues related to this experimental feature.\n",
            "  self.bilstmModel = torch.load(bilstm_model_path)\n"
          ]
        }
      ]
    },
    {
      "cell_type": "code",
      "source": [
        "data['seg_text_lstm'] = data['Text'].apply(lambda x: segment_khmer_text(x, model='lstm')) # apply word segmentation using \"LSTM\"\n",
        "data['seg_text_crf'] = data['Text'].apply(lambda x: segment_khmer_text(x,model = 'crf')) # apply word segmentation using \"CRF\""
      ],
      "metadata": {
        "id": "Z-Bv6C7-1SRf"
      },
      "execution_count": null,
      "outputs": []
    },
    {
      "cell_type": "code",
      "source": [
        "data.head(10)"
      ],
      "metadata": {
        "colab": {
          "base_uri": "https://localhost:8080/",
          "height": 362
        },
        "id": "y3tNkM7K11ou",
        "outputId": "5d8ec601-d8e2-42a5-d97c-2a9a4bf7f521"
      },
      "execution_count": null,
      "outputs": [
        {
          "output_type": "execute_result",
          "data": {
            "text/plain": [
              "   ID                                                Text Sentiment_text  \\\n",
              "0    1                                    ខ្ញុំចូលចិត្តវា      Positive    \n",
              "1    2                                 ផលិតផលនេះគុណភាពល្អ      Positive    \n",
              "2    3                      ប្រើប្រាស់មិនបានយូ ហើយថ្លៃទៀត       Negative   \n",
              "3    4                            នៅតែពេញនិយមស្តាប់មិនធុញ      Positive    \n",
              "4    5      ខ្ញុំអត់ចូលចិត្តត្រង់ កាមេរ៉ា មហាអន់ និយាយមែន       Negative   \n",
              "5    6                 ខ្ញុំអត់ពេញចិត្តរូប១សន្លឹកដែលថតនោះ       Negative   \n",
              "6    7                               ផលិតបានល្អខ្លាំងណាស់      Positive    \n",
              "7    8                        ខ្ញុំស្ដាប់10ដងហើយនៅតែពិរស់      Positive    \n",
              "8    9  អ្នកបើកបរមានសុជីវធម៍ល្អ លើកក្រោយចង់ជិះជាមួយគាត...      Positive    \n",
              "9   10  សូមខំមិនរឿងអ្នកបើកបរម្សិលមិញពីសៀមរាបមកភ្នំពេញម...       Negative   \n",
              "\n",
              "   Sentiment_label                                      seg_text_lstm  \\\n",
              "0              1.0                                  ខ្ញុំ ចូលចិត្ត វា   \n",
              "1              1.0                              ផលិតផល នេះ គុណភាព ល្អ   \n",
              "2              0.0                  ប្រើប្រាស់ មិន បាន យូហើយ ថ្លៃ ទៀត   \n",
              "3              1.0                        នៅតែ ពេញនិយម ស្តាប់ មិន ធុញ   \n",
              "4              0.0  ខ្ញុំ អត់ ចូលចិត្ត ត្រង់ កាមេរ៉ា មហា អន់ និយាយ...   \n",
              "5              0.0         ខ្ញុំ អត់ ពេញចិត្ត រូប ១ សន្លឹក ដែល ថត នោះ   \n",
              "6              1.0                           ផលិត បាន ល្អ ខ្លាំង ណាស់   \n",
              "7              1.0                  ខ្ញុំ ស្ដាប់ 10 ដង ហើយ នៅតែ ពិរស់   \n",
              "8              1.0  អ្នកបើកបរ មាន សុជីវធម៍ ល្អ លើក ក្រោយ ចង់ ជិះ ជ...   \n",
              "9              0.0  សូម ខំ មិន រឿង អ្នកបើកបរ ម្សិលមិញ ពី សៀមរាប មក...   \n",
              "\n",
              "                                        seg_text_crf  \n",
              "0                                  ខ្ញុំ ចូលចិត្ត វា  \n",
              "1                              ផលិតផល នេះ គុណភាព ល្អ  \n",
              "2                  ប្រើប្រាស់ មិន បាន យូហើយ ថ្លៃ ទៀត  \n",
              "3                        នៅតែ ពេញនិយម ស្តាប់ មិន ធុញ  \n",
              "4  ខ្ញុំ អត់ ចូលចិត្ត ត្រង់ កាមេរ៉ា មហា អន់ និយាយ...  \n",
              "5         ខ្ញុំ អត់ ពេញចិត្ត រូប ១ សន្លឹក ដែល ថត នោះ  \n",
              "6                           ផលិត បាន ល្អ ខ្លាំង ណាស់  \n",
              "7                  ខ្ញុំ ស្ដាប់ 10 ដង ហើយ នៅតែ ពិរស់  \n",
              "8  អ្នកបើកបរ មាន សុជីវធម៍ ល្អ លើក ក្រោយ ចង់ ជិះ ជ...  \n",
              "9  សូម ខំ មិន រឿង អ្នកបើកបរ ម្សិលមិញ ពី សៀមរាប មក...  "
            ],
            "text/html": [
              "\n",
              "  <div id=\"df-cba392bd-588b-4037-9bd7-104fa8bd753c\" class=\"colab-df-container\">\n",
              "    <div>\n",
              "<style scoped>\n",
              "    .dataframe tbody tr th:only-of-type {\n",
              "        vertical-align: middle;\n",
              "    }\n",
              "\n",
              "    .dataframe tbody tr th {\n",
              "        vertical-align: top;\n",
              "    }\n",
              "\n",
              "    .dataframe thead th {\n",
              "        text-align: right;\n",
              "    }\n",
              "</style>\n",
              "<table border=\"1\" class=\"dataframe\">\n",
              "  <thead>\n",
              "    <tr style=\"text-align: right;\">\n",
              "      <th></th>\n",
              "      <th>ID</th>\n",
              "      <th>Text</th>\n",
              "      <th>Sentiment_text</th>\n",
              "      <th>Sentiment_label</th>\n",
              "      <th>seg_text_lstm</th>\n",
              "      <th>seg_text_crf</th>\n",
              "    </tr>\n",
              "  </thead>\n",
              "  <tbody>\n",
              "    <tr>\n",
              "      <th>0</th>\n",
              "      <td>1</td>\n",
              "      <td>ខ្ញុំចូលចិត្តវា</td>\n",
              "      <td>Positive</td>\n",
              "      <td>1.0</td>\n",
              "      <td>ខ្ញុំ ចូលចិត្ត វា</td>\n",
              "      <td>ខ្ញុំ ចូលចិត្ត វា</td>\n",
              "    </tr>\n",
              "    <tr>\n",
              "      <th>1</th>\n",
              "      <td>2</td>\n",
              "      <td>ផលិតផលនេះគុណភាពល្អ</td>\n",
              "      <td>Positive</td>\n",
              "      <td>1.0</td>\n",
              "      <td>ផលិតផល នេះ គុណភាព ល្អ</td>\n",
              "      <td>ផលិតផល នេះ គុណភាព ល្អ</td>\n",
              "    </tr>\n",
              "    <tr>\n",
              "      <th>2</th>\n",
              "      <td>3</td>\n",
              "      <td>ប្រើប្រាស់មិនបានយូ ហើយថ្លៃទៀត</td>\n",
              "      <td>Negative</td>\n",
              "      <td>0.0</td>\n",
              "      <td>ប្រើប្រាស់ មិន បាន យូហើយ ថ្លៃ ទៀត</td>\n",
              "      <td>ប្រើប្រាស់ មិន បាន យូហើយ ថ្លៃ ទៀត</td>\n",
              "    </tr>\n",
              "    <tr>\n",
              "      <th>3</th>\n",
              "      <td>4</td>\n",
              "      <td>នៅតែពេញនិយមស្តាប់មិនធុញ</td>\n",
              "      <td>Positive</td>\n",
              "      <td>1.0</td>\n",
              "      <td>នៅតែ ពេញនិយម ស្តាប់ មិន ធុញ</td>\n",
              "      <td>នៅតែ ពេញនិយម ស្តាប់ មិន ធុញ</td>\n",
              "    </tr>\n",
              "    <tr>\n",
              "      <th>4</th>\n",
              "      <td>5</td>\n",
              "      <td>ខ្ញុំអត់ចូលចិត្តត្រង់ កាមេរ៉ា មហាអន់ និយាយមែន</td>\n",
              "      <td>Negative</td>\n",
              "      <td>0.0</td>\n",
              "      <td>ខ្ញុំ អត់ ចូលចិត្ត ត្រង់ កាមេរ៉ា មហា អន់ និយាយ...</td>\n",
              "      <td>ខ្ញុំ អត់ ចូលចិត្ត ត្រង់ កាមេរ៉ា មហា អន់ និយាយ...</td>\n",
              "    </tr>\n",
              "    <tr>\n",
              "      <th>5</th>\n",
              "      <td>6</td>\n",
              "      <td>ខ្ញុំអត់ពេញចិត្តរូប១សន្លឹកដែលថតនោះ</td>\n",
              "      <td>Negative</td>\n",
              "      <td>0.0</td>\n",
              "      <td>ខ្ញុំ អត់ ពេញចិត្ត រូប ១ សន្លឹក ដែល ថត នោះ</td>\n",
              "      <td>ខ្ញុំ អត់ ពេញចិត្ត រូប ១ សន្លឹក ដែល ថត នោះ</td>\n",
              "    </tr>\n",
              "    <tr>\n",
              "      <th>6</th>\n",
              "      <td>7</td>\n",
              "      <td>ផលិតបានល្អខ្លាំងណាស់</td>\n",
              "      <td>Positive</td>\n",
              "      <td>1.0</td>\n",
              "      <td>ផលិត បាន ល្អ ខ្លាំង ណាស់</td>\n",
              "      <td>ផលិត បាន ល្អ ខ្លាំង ណាស់</td>\n",
              "    </tr>\n",
              "    <tr>\n",
              "      <th>7</th>\n",
              "      <td>8</td>\n",
              "      <td>ខ្ញុំស្ដាប់10ដងហើយនៅតែពិរស់</td>\n",
              "      <td>Positive</td>\n",
              "      <td>1.0</td>\n",
              "      <td>ខ្ញុំ ស្ដាប់ 10 ដង ហើយ នៅតែ ពិរស់</td>\n",
              "      <td>ខ្ញុំ ស្ដាប់ 10 ដង ហើយ នៅតែ ពិរស់</td>\n",
              "    </tr>\n",
              "    <tr>\n",
              "      <th>8</th>\n",
              "      <td>9</td>\n",
              "      <td>អ្នកបើកបរមានសុជីវធម៍ល្អ លើកក្រោយចង់ជិះជាមួយគាត...</td>\n",
              "      <td>Positive</td>\n",
              "      <td>1.0</td>\n",
              "      <td>អ្នកបើកបរ មាន សុជីវធម៍ ល្អ លើក ក្រោយ ចង់ ជិះ ជ...</td>\n",
              "      <td>អ្នកបើកបរ មាន សុជីវធម៍ ល្អ លើក ក្រោយ ចង់ ជិះ ជ...</td>\n",
              "    </tr>\n",
              "    <tr>\n",
              "      <th>9</th>\n",
              "      <td>10</td>\n",
              "      <td>សូមខំមិនរឿងអ្នកបើកបរម្សិលមិញពីសៀមរាបមកភ្នំពេញម...</td>\n",
              "      <td>Negative</td>\n",
              "      <td>0.0</td>\n",
              "      <td>សូម ខំ មិន រឿង អ្នកបើកបរ ម្សិលមិញ ពី សៀមរាប មក...</td>\n",
              "      <td>សូម ខំ មិន រឿង អ្នកបើកបរ ម្សិលមិញ ពី សៀមរាប មក...</td>\n",
              "    </tr>\n",
              "  </tbody>\n",
              "</table>\n",
              "</div>\n",
              "    <div class=\"colab-df-buttons\">\n",
              "\n",
              "  <div class=\"colab-df-container\">\n",
              "    <button class=\"colab-df-convert\" onclick=\"convertToInteractive('df-cba392bd-588b-4037-9bd7-104fa8bd753c')\"\n",
              "            title=\"Convert this dataframe to an interactive table.\"\n",
              "            style=\"display:none;\">\n",
              "\n",
              "  <svg xmlns=\"http://www.w3.org/2000/svg\" height=\"24px\" viewBox=\"0 -960 960 960\">\n",
              "    <path d=\"M120-120v-720h720v720H120Zm60-500h600v-160H180v160Zm220 220h160v-160H400v160Zm0 220h160v-160H400v160ZM180-400h160v-160H180v160Zm440 0h160v-160H620v160ZM180-180h160v-160H180v160Zm440 0h160v-160H620v160Z\"/>\n",
              "  </svg>\n",
              "    </button>\n",
              "\n",
              "  <style>\n",
              "    .colab-df-container {\n",
              "      display:flex;\n",
              "      gap: 12px;\n",
              "    }\n",
              "\n",
              "    .colab-df-convert {\n",
              "      background-color: #E8F0FE;\n",
              "      border: none;\n",
              "      border-radius: 50%;\n",
              "      cursor: pointer;\n",
              "      display: none;\n",
              "      fill: #1967D2;\n",
              "      height: 32px;\n",
              "      padding: 0 0 0 0;\n",
              "      width: 32px;\n",
              "    }\n",
              "\n",
              "    .colab-df-convert:hover {\n",
              "      background-color: #E2EBFA;\n",
              "      box-shadow: 0px 1px 2px rgba(60, 64, 67, 0.3), 0px 1px 3px 1px rgba(60, 64, 67, 0.15);\n",
              "      fill: #174EA6;\n",
              "    }\n",
              "\n",
              "    .colab-df-buttons div {\n",
              "      margin-bottom: 4px;\n",
              "    }\n",
              "\n",
              "    [theme=dark] .colab-df-convert {\n",
              "      background-color: #3B4455;\n",
              "      fill: #D2E3FC;\n",
              "    }\n",
              "\n",
              "    [theme=dark] .colab-df-convert:hover {\n",
              "      background-color: #434B5C;\n",
              "      box-shadow: 0px 1px 3px 1px rgba(0, 0, 0, 0.15);\n",
              "      filter: drop-shadow(0px 1px 2px rgba(0, 0, 0, 0.3));\n",
              "      fill: #FFFFFF;\n",
              "    }\n",
              "  </style>\n",
              "\n",
              "    <script>\n",
              "      const buttonEl =\n",
              "        document.querySelector('#df-cba392bd-588b-4037-9bd7-104fa8bd753c button.colab-df-convert');\n",
              "      buttonEl.style.display =\n",
              "        google.colab.kernel.accessAllowed ? 'block' : 'none';\n",
              "\n",
              "      async function convertToInteractive(key) {\n",
              "        const element = document.querySelector('#df-cba392bd-588b-4037-9bd7-104fa8bd753c');\n",
              "        const dataTable =\n",
              "          await google.colab.kernel.invokeFunction('convertToInteractive',\n",
              "                                                    [key], {});\n",
              "        if (!dataTable) return;\n",
              "\n",
              "        const docLinkHtml = 'Like what you see? Visit the ' +\n",
              "          '<a target=\"_blank\" href=https://colab.research.google.com/notebooks/data_table.ipynb>data table notebook</a>'\n",
              "          + ' to learn more about interactive tables.';\n",
              "        element.innerHTML = '';\n",
              "        dataTable['output_type'] = 'display_data';\n",
              "        await google.colab.output.renderOutput(dataTable, element);\n",
              "        const docLink = document.createElement('div');\n",
              "        docLink.innerHTML = docLinkHtml;\n",
              "        element.appendChild(docLink);\n",
              "      }\n",
              "    </script>\n",
              "  </div>\n",
              "\n",
              "\n",
              "<div id=\"df-399fd420-abf6-40ef-bd77-e07a0385a398\">\n",
              "  <button class=\"colab-df-quickchart\" onclick=\"quickchart('df-399fd420-abf6-40ef-bd77-e07a0385a398')\"\n",
              "            title=\"Suggest charts\"\n",
              "            style=\"display:none;\">\n",
              "\n",
              "<svg xmlns=\"http://www.w3.org/2000/svg\" height=\"24px\"viewBox=\"0 0 24 24\"\n",
              "     width=\"24px\">\n",
              "    <g>\n",
              "        <path d=\"M19 3H5c-1.1 0-2 .9-2 2v14c0 1.1.9 2 2 2h14c1.1 0 2-.9 2-2V5c0-1.1-.9-2-2-2zM9 17H7v-7h2v7zm4 0h-2V7h2v10zm4 0h-2v-4h2v4z\"/>\n",
              "    </g>\n",
              "</svg>\n",
              "  </button>\n",
              "\n",
              "<style>\n",
              "  .colab-df-quickchart {\n",
              "      --bg-color: #E8F0FE;\n",
              "      --fill-color: #1967D2;\n",
              "      --hover-bg-color: #E2EBFA;\n",
              "      --hover-fill-color: #174EA6;\n",
              "      --disabled-fill-color: #AAA;\n",
              "      --disabled-bg-color: #DDD;\n",
              "  }\n",
              "\n",
              "  [theme=dark] .colab-df-quickchart {\n",
              "      --bg-color: #3B4455;\n",
              "      --fill-color: #D2E3FC;\n",
              "      --hover-bg-color: #434B5C;\n",
              "      --hover-fill-color: #FFFFFF;\n",
              "      --disabled-bg-color: #3B4455;\n",
              "      --disabled-fill-color: #666;\n",
              "  }\n",
              "\n",
              "  .colab-df-quickchart {\n",
              "    background-color: var(--bg-color);\n",
              "    border: none;\n",
              "    border-radius: 50%;\n",
              "    cursor: pointer;\n",
              "    display: none;\n",
              "    fill: var(--fill-color);\n",
              "    height: 32px;\n",
              "    padding: 0;\n",
              "    width: 32px;\n",
              "  }\n",
              "\n",
              "  .colab-df-quickchart:hover {\n",
              "    background-color: var(--hover-bg-color);\n",
              "    box-shadow: 0 1px 2px rgba(60, 64, 67, 0.3), 0 1px 3px 1px rgba(60, 64, 67, 0.15);\n",
              "    fill: var(--button-hover-fill-color);\n",
              "  }\n",
              "\n",
              "  .colab-df-quickchart-complete:disabled,\n",
              "  .colab-df-quickchart-complete:disabled:hover {\n",
              "    background-color: var(--disabled-bg-color);\n",
              "    fill: var(--disabled-fill-color);\n",
              "    box-shadow: none;\n",
              "  }\n",
              "\n",
              "  .colab-df-spinner {\n",
              "    border: 2px solid var(--fill-color);\n",
              "    border-color: transparent;\n",
              "    border-bottom-color: var(--fill-color);\n",
              "    animation:\n",
              "      spin 1s steps(1) infinite;\n",
              "  }\n",
              "\n",
              "  @keyframes spin {\n",
              "    0% {\n",
              "      border-color: transparent;\n",
              "      border-bottom-color: var(--fill-color);\n",
              "      border-left-color: var(--fill-color);\n",
              "    }\n",
              "    20% {\n",
              "      border-color: transparent;\n",
              "      border-left-color: var(--fill-color);\n",
              "      border-top-color: var(--fill-color);\n",
              "    }\n",
              "    30% {\n",
              "      border-color: transparent;\n",
              "      border-left-color: var(--fill-color);\n",
              "      border-top-color: var(--fill-color);\n",
              "      border-right-color: var(--fill-color);\n",
              "    }\n",
              "    40% {\n",
              "      border-color: transparent;\n",
              "      border-right-color: var(--fill-color);\n",
              "      border-top-color: var(--fill-color);\n",
              "    }\n",
              "    60% {\n",
              "      border-color: transparent;\n",
              "      border-right-color: var(--fill-color);\n",
              "    }\n",
              "    80% {\n",
              "      border-color: transparent;\n",
              "      border-right-color: var(--fill-color);\n",
              "      border-bottom-color: var(--fill-color);\n",
              "    }\n",
              "    90% {\n",
              "      border-color: transparent;\n",
              "      border-bottom-color: var(--fill-color);\n",
              "    }\n",
              "  }\n",
              "</style>\n",
              "\n",
              "  <script>\n",
              "    async function quickchart(key) {\n",
              "      const quickchartButtonEl =\n",
              "        document.querySelector('#' + key + ' button');\n",
              "      quickchartButtonEl.disabled = true;  // To prevent multiple clicks.\n",
              "      quickchartButtonEl.classList.add('colab-df-spinner');\n",
              "      try {\n",
              "        const charts = await google.colab.kernel.invokeFunction(\n",
              "            'suggestCharts', [key], {});\n",
              "      } catch (error) {\n",
              "        console.error('Error during call to suggestCharts:', error);\n",
              "      }\n",
              "      quickchartButtonEl.classList.remove('colab-df-spinner');\n",
              "      quickchartButtonEl.classList.add('colab-df-quickchart-complete');\n",
              "    }\n",
              "    (() => {\n",
              "      let quickchartButtonEl =\n",
              "        document.querySelector('#df-399fd420-abf6-40ef-bd77-e07a0385a398 button');\n",
              "      quickchartButtonEl.style.display =\n",
              "        google.colab.kernel.accessAllowed ? 'block' : 'none';\n",
              "    })();\n",
              "  </script>\n",
              "</div>\n",
              "\n",
              "    </div>\n",
              "  </div>\n"
            ],
            "application/vnd.google.colaboratory.intrinsic+json": {
              "type": "dataframe",
              "variable_name": "data",
              "summary": "{\n  \"name\": \"data\",\n  \"rows\": 1114,\n  \"fields\": [\n    {\n      \"column\": \"ID \",\n      \"properties\": {\n        \"dtype\": \"number\",\n        \"std\": 328,\n        \"min\": 1,\n        \"max\": 1133,\n        \"num_unique_values\": 1114,\n        \"samples\": [\n          899,\n          102,\n          1131\n        ],\n        \"semantic_type\": \"\",\n        \"description\": \"\"\n      }\n    },\n    {\n      \"column\": \"Text\",\n      \"properties\": {\n        \"dtype\": \"category\",\n        \"num_unique_values\": 305,\n        \"samples\": [\n          \"\\u1798\\u17c9\\u17bc\\u178f\\u17bc\\u1798\\u17c9\\u17b6\\u1780\\u1790\\u17d2\\u1798\\u17b8\\u1793\\u17c1\\u17c7\\u1794\\u17be\\u1780\\u179f\\u17d2\\u179a\\u17bd\\u179b \\u179f\\u1793\\u17d2\\u179f\\u17c6\\u179f\\u17c6\\u1785\\u17c3\\u1794\\u17d2\\u179a\\u17c1\\u1784\\u179f\\u17b6\\u17c6\\u1784\",\n          \"\\u178f\\u1793\\u17d2\\u178f\\u17d2\\u179a\\u17b8\\u1793\\u17c5\\u1780\\u17d2\\u179b\\u17b9\\u1794\\u1793\\u17c1\\u17c7\\u17ae\\u1781\\u17d2\\u179b\\u17b6\\u17c6\\u1784\\u1796\\u17c1\\u1780 \\u1798\\u17b7\\u1793\\u17a2\\u17b6\\u1785\\u1787\\u1787\\u17c2\\u1780\\u1782\\u17d2\\u1793\\u17b6\\u1794\\u17b6\\u1793\",\n          \"\\u1794\\u179a\\u17b7\\u1799\\u17b6\\u1780\\u17b6\\u179f\\u1793\\u17c5\\u17a0\\u17b6\\u1784\\u1793\\u17c1\\u17c7\\u179b\\u17d2\\u17a2\\u17a5\\u178f\\u1781\\u17d2\\u1785\\u17c4\\u17c7\\u17d4\"\n        ],\n        \"semantic_type\": \"\",\n        \"description\": \"\"\n      }\n    },\n    {\n      \"column\": \"Sentiment_text\",\n      \"properties\": {\n        \"dtype\": \"category\",\n        \"num_unique_values\": 4,\n        \"samples\": [\n          \"Negative\",\n          \"Negative \",\n          \"Positive \"\n        ],\n        \"semantic_type\": \"\",\n        \"description\": \"\"\n      }\n    },\n    {\n      \"column\": \"Sentiment_label\",\n      \"properties\": {\n        \"dtype\": \"number\",\n        \"std\": 0.49880046322802507,\n        \"min\": 0.0,\n        \"max\": 1.0,\n        \"num_unique_values\": 2,\n        \"samples\": [\n          0.0,\n          1.0\n        ],\n        \"semantic_type\": \"\",\n        \"description\": \"\"\n      }\n    },\n    {\n      \"column\": \"seg_text_lstm\",\n      \"properties\": {\n        \"dtype\": \"category\",\n        \"num_unique_values\": 305,\n        \"samples\": [\n          \"\\u1798\\u17c9\\u17bc\\u178f\\u17bc \\u1798\\u17c9\\u17b6\\u1780 \\u1790\\u17d2\\u1798\\u17b8 \\u1793\\u17c1\\u17c7 \\u1794\\u17be\\u1780 \\u179f\\u17d2\\u179a\\u17bd\\u179b \\u179f\\u1793\\u17d2\\u179f\\u17c6 \\u179f\\u17c6\\u1785\\u17c3 \\u1794\\u17d2\\u179a\\u17c1\\u1784\\u179f\\u17b6\\u17c6\\u1784\",\n          \"\\u178f\\u1793\\u17d2\\u178f\\u17d2\\u179a\\u17b8 \\u1793\\u17c5 \\u1780\\u17d2\\u179b\\u17b9\\u1794 \\u1793\\u17c1\\u17c7 \\u17ae \\u1781\\u17d2\\u179b\\u17b6\\u17c6\\u1784 \\u1796\\u17c1\\u1780 \\u1798\\u17b7\\u1793 \\u17a2\\u17b6\\u1785 \\u1787\\u1787\\u17c2\\u1780\\u1782\\u17d2\\u1793\\u17b6 \\u1794\\u17b6\\u1793\"\n        ],\n        \"semantic_type\": \"\",\n        \"description\": \"\"\n      }\n    },\n    {\n      \"column\": \"seg_text_crf\",\n      \"properties\": {\n        \"dtype\": \"category\",\n        \"num_unique_values\": 305,\n        \"samples\": [\n          \"\\u1798\\u17c9\\u17bc\\u178f\\u17bc \\u1798\\u17c9\\u17b6\\u1780 \\u1790\\u17d2\\u1798\\u17b8 \\u1793\\u17c1\\u17c7 \\u1794\\u17be\\u1780 \\u179f\\u17d2\\u179a\\u17bd\\u179b \\u179f\\u1793\\u17d2\\u179f\\u17c6 \\u179f\\u17c6\\u1785\\u17c3 \\u1794\\u17d2\\u179a\\u17c1\\u1784\\u179f\\u17b6\\u17c6\\u1784\",\n          \"\\u178f\\u1793\\u17d2\\u178f\\u17d2\\u179a\\u17b8 \\u1793\\u17c5 \\u1780\\u17d2\\u179b\\u17b9\\u1794 \\u1793\\u17c1\\u17c7 \\u17ae \\u1781\\u17d2\\u179b\\u17b6\\u17c6\\u1784 \\u1796\\u17c1\\u1780 \\u1798\\u17b7\\u1793 \\u17a2\\u17b6\\u1785 \\u1787\\u1787\\u17c2\\u1780\\u1782\\u17d2\\u1793\\u17b6 \\u1794\\u17b6\\u1793\"\n        ],\n        \"semantic_type\": \"\",\n        \"description\": \"\"\n      }\n    }\n  ]\n}"
            }
          },
          "metadata": {},
          "execution_count": 13
        }
      ]
    },
    {
      "cell_type": "code",
      "source": [
        "data.to_csv('kh_sentiment_data_segmented.csv', index=False)"
      ],
      "metadata": {
        "id": "PywHg5UAjd3w"
      },
      "execution_count": null,
      "outputs": []
    },
    {
      "cell_type": "code",
      "source": [
        "data = data[['seg_text_lstm', 'Sentiment_label']] # Use segmented text column and sentiment label\n",
        "\n",
        "# Split into train and validation sets\n",
        "train_data, val_data = train_test_split(data, test_size=0.2)"
      ],
      "metadata": {
        "id": "06p_LhtCDynF"
      },
      "execution_count": null,
      "outputs": []
    },
    {
      "cell_type": "markdown",
      "source": [
        "# Tokenization"
      ],
      "metadata": {
        "id": "sLM5W68E-o3D"
      }
    },
    {
      "cell_type": "code",
      "source": [
        "# Load the XLM-Roberta tokenizer\n",
        "tokenizer = XLMRobertaTokenizer.from_pretrained(\"xlm-roberta-base\")"
      ],
      "metadata": {
        "id": "jzZDEtXQ-oH5",
        "colab": {
          "base_uri": "https://localhost:8080/",
          "height": 269,
          "referenced_widgets": [
            "9c4f49dfa69346da81f67ff9010e693b",
            "f9687fd162a6489c985d2315e8acaa12",
            "ec326eac1469485b8e3a2f7bf4c95632",
            "83efda734bef4ffe8f2047b07f28e34c",
            "1bbe3ca9162b4c32903f92d428b9edf2",
            "c531f82136fe4d57ba9ee4eb326d3140",
            "b747c5172f734191a8b4f77e991e2833",
            "a7d442dc0b0742d9a489445859b07bb8",
            "c50956f4fca34ab3b70bee735e5143ad",
            "7de7f3cb17be42adb1cec698697e96d7",
            "79e3553dba6c46318fa1a92837b6515d",
            "22c94ac41e354cd98c623b2645af2491",
            "ec974e2b231e43e89f5710810ee7c085",
            "16583a3298e349fd9d5a2ea34775f587",
            "26fb2114670d46588e7c86f59fc7250c",
            "dded06e6d27a4e3996684f6d6e46b0e6",
            "12d5915d59dc435ea414e695c4b3a629",
            "ab07e1678b614f42b58d39155f56f367",
            "c4d44e1cdf5643488ec8f6a6f73e1d9a",
            "c35bd01ce69746f7b20e1fafed52cbb3",
            "32f3c94bdfa04c60853c334ad5e4fcfb",
            "69bcc20164b543039bde1decc40d01ae",
            "ad62f331b61e4aeb8ac042179983a76a",
            "e60379d38fc3482fb67e60cc4fa98061",
            "8eed961bcb8540e3933207240959bdd2",
            "95a67f6a4c734955a9ff12b63dffe75e",
            "5cb6160dffed4417a9bf24f9906c4f2c",
            "cc724ed5614d49deb785813456158520",
            "5591a24adf474b72a247eebb06bb60c3",
            "e8806af5f8e74cadac4a13655c49544f",
            "c59a45ba82aa4e168e22749302750a46",
            "e6936146234a4eb7a91e6825b35bbbde",
            "a93d72e1c2a5442399c9388629a5d972",
            "7c9bbf72fb14491c8f90a086aec10307",
            "ff03d241b04949a498788e3c31037d2e",
            "6ac24565705d409597cbbafa39eeb379",
            "0454ea40584b4bae936919f305d2ebfc",
            "2fedb8fb70ee44eeb6be95c7fcc41318",
            "153198bca3404197a24fdf77dc30a28a",
            "9163796e15a3425ab13dbd6eabcb88ee",
            "0fedcec45ef6488e861d35fccdc6ae54",
            "1e22f037085549be9f643f6fedb504da",
            "230763137b6640bb9ee44bfb334928e7",
            "88ae4c4880e4417893270f109141cd87"
          ]
        },
        "outputId": "01920f19-21b3-417f-d40d-4b054a3e816a"
      },
      "execution_count": null,
      "outputs": [
        {
          "output_type": "stream",
          "name": "stderr",
          "text": [
            "/usr/local/lib/python3.11/dist-packages/huggingface_hub/utils/_auth.py:94: UserWarning: \n",
            "The secret `HF_TOKEN` does not exist in your Colab secrets.\n",
            "To authenticate with the Hugging Face Hub, create a token in your settings tab (https://huggingface.co/settings/tokens), set it as secret in your Google Colab and restart your session.\n",
            "You will be able to reuse this secret in all of your notebooks.\n",
            "Please note that authentication is recommended but still optional to access public models or datasets.\n",
            "  warnings.warn(\n"
          ]
        },
        {
          "output_type": "display_data",
          "data": {
            "text/plain": [
              "tokenizer_config.json:   0%|          | 0.00/25.0 [00:00<?, ?B/s]"
            ],
            "application/vnd.jupyter.widget-view+json": {
              "version_major": 2,
              "version_minor": 0,
              "model_id": "9c4f49dfa69346da81f67ff9010e693b"
            }
          },
          "metadata": {}
        },
        {
          "output_type": "display_data",
          "data": {
            "text/plain": [
              "sentencepiece.bpe.model:   0%|          | 0.00/5.07M [00:00<?, ?B/s]"
            ],
            "application/vnd.jupyter.widget-view+json": {
              "version_major": 2,
              "version_minor": 0,
              "model_id": "22c94ac41e354cd98c623b2645af2491"
            }
          },
          "metadata": {}
        },
        {
          "output_type": "display_data",
          "data": {
            "text/plain": [
              "tokenizer.json:   0%|          | 0.00/9.10M [00:00<?, ?B/s]"
            ],
            "application/vnd.jupyter.widget-view+json": {
              "version_major": 2,
              "version_minor": 0,
              "model_id": "ad62f331b61e4aeb8ac042179983a76a"
            }
          },
          "metadata": {}
        },
        {
          "output_type": "display_data",
          "data": {
            "text/plain": [
              "config.json:   0%|          | 0.00/615 [00:00<?, ?B/s]"
            ],
            "application/vnd.jupyter.widget-view+json": {
              "version_major": 2,
              "version_minor": 0,
              "model_id": "7c9bbf72fb14491c8f90a086aec10307"
            }
          },
          "metadata": {}
        }
      ]
    },
    {
      "cell_type": "markdown",
      "source": [
        "# Create a customer dataset using Pytorch"
      ],
      "metadata": {
        "id": "FiaG46Pgo_UZ"
      }
    },
    {
      "cell_type": "code",
      "source": [
        "#Custom Dataset class\n",
        "class CustomDataset(Dataset):\n",
        "    def __init__(self, dataframe, tokenizer, max_length):\n",
        "        self.dataframe = dataframe\n",
        "        self.texts = dataframe['seg_text_lstm'].tolist()\n",
        "        self.labels = dataframe['Sentiment_label'].tolist()\n",
        "        self.tokenizer = tokenizer\n",
        "        self.max_length = max_length\n",
        "\n",
        "    def __len__(self):\n",
        "        return len(self.dataframe)\n",
        "\n",
        "    def __getitem__(self, idx):\n",
        "        text = self.texts[idx]\n",
        "        label = self.labels[idx]\n",
        "\n",
        "        # Tokenize the text\n",
        "        encoded = self.tokenizer(\n",
        "            text,\n",
        "            padding=\"max_length\",\n",
        "            truncation=True,\n",
        "            max_length=self.max_length,\n",
        "            return_tensors=\"pt\",\n",
        "        )\n",
        "\n",
        "        # Return tensors\n",
        "        return {\n",
        "            'input_ids': encoded['input_ids'].squeeze(0),  # Remove batch dimension\n",
        "            'attention_mask': encoded['attention_mask'].squeeze(0),\n",
        "            'label': torch.tensor(label, dtype=torch.long)\n",
        "        }\n",
        "\n"
      ],
      "metadata": {
        "id": "jmV-ZHK676PL"
      },
      "execution_count": null,
      "outputs": []
    },
    {
      "cell_type": "code",
      "source": [
        "# Define parameters\n",
        "max_length = 128  # Maximum token length\n",
        "batch_size = 16   # Batch size\n",
        "\n",
        "# Create datasets\n",
        "train_dataset = CustomDataset(train_data, tokenizer, max_length)\n",
        "val_dataset = CustomDataset(val_data, tokenizer, max_length)"
      ],
      "metadata": {
        "id": "SZrYq1Tp9B3t"
      },
      "execution_count": null,
      "outputs": []
    },
    {
      "cell_type": "code",
      "source": [
        "# Retrieve the first sample\n",
        "sample = train_dataset[0]\n",
        "# Print the tokenized data\n",
        "print(\"Input IDs:\", sample['input_ids'])\n",
        "print(\"Attention Mask:\", sample['attention_mask'])\n",
        "print(\"Label:\", sample['label'])"
      ],
      "metadata": {
        "colab": {
          "base_uri": "https://localhost:8080/"
        },
        "id": "_u-WyOJcp0le",
        "outputId": "e7620967-913e-47a8-f252-433e8868b4da"
      },
      "execution_count": null,
      "outputs": [
        {
          "output_type": "stream",
          "name": "stdout",
          "text": [
            "Input IDs: tensor([     0,   3345, 197111,   5580,  54118,  13227,  47760,      6, 197380,\n",
            "             6, 114918,      2,      1,      1,      1,      1,      1,      1,\n",
            "             1,      1,      1,      1,      1,      1,      1,      1,      1,\n",
            "             1,      1,      1,      1,      1,      1,      1,      1,      1,\n",
            "             1,      1,      1,      1,      1,      1,      1,      1,      1,\n",
            "             1,      1,      1,      1,      1,      1,      1,      1,      1,\n",
            "             1,      1,      1,      1,      1,      1,      1,      1,      1,\n",
            "             1,      1,      1,      1,      1,      1,      1,      1,      1,\n",
            "             1,      1,      1,      1,      1,      1,      1,      1,      1,\n",
            "             1,      1,      1,      1,      1,      1,      1,      1,      1,\n",
            "             1,      1,      1,      1,      1,      1,      1,      1,      1,\n",
            "             1,      1,      1,      1,      1,      1,      1,      1,      1,\n",
            "             1,      1,      1,      1,      1,      1,      1,      1,      1,\n",
            "             1,      1,      1,      1,      1,      1,      1,      1,      1,\n",
            "             1,      1])\n",
            "Attention Mask: tensor([1, 1, 1, 1, 1, 1, 1, 1, 1, 1, 1, 1, 0, 0, 0, 0, 0, 0, 0, 0, 0, 0, 0, 0,\n",
            "        0, 0, 0, 0, 0, 0, 0, 0, 0, 0, 0, 0, 0, 0, 0, 0, 0, 0, 0, 0, 0, 0, 0, 0,\n",
            "        0, 0, 0, 0, 0, 0, 0, 0, 0, 0, 0, 0, 0, 0, 0, 0, 0, 0, 0, 0, 0, 0, 0, 0,\n",
            "        0, 0, 0, 0, 0, 0, 0, 0, 0, 0, 0, 0, 0, 0, 0, 0, 0, 0, 0, 0, 0, 0, 0, 0,\n",
            "        0, 0, 0, 0, 0, 0, 0, 0, 0, 0, 0, 0, 0, 0, 0, 0, 0, 0, 0, 0, 0, 0, 0, 0,\n",
            "        0, 0, 0, 0, 0, 0, 0, 0])\n",
            "Label: tensor(1)\n"
          ]
        }
      ]
    },
    {
      "cell_type": "code",
      "source": [
        "# Create dataloaders\n",
        "train_data_loader = DataLoader(train_dataset, batch_size=batch_size, shuffle=True)\n",
        "val_data_loader = DataLoader(val_dataset, batch_size=batch_size, shuffle=False)"
      ],
      "metadata": {
        "id": "5pXnLgxzqPuf"
      },
      "execution_count": null,
      "outputs": []
    },
    {
      "cell_type": "markdown",
      "source": [
        "# Define Pre-train Model"
      ],
      "metadata": {
        "id": "9PfoRJ-oq-V8"
      }
    },
    {
      "cell_type": "code",
      "source": [
        "class XLMRClassifier(nn.Module):\n",
        "    def __init__(self, model_name, num_classes):\n",
        "        super(XLMRClassifier, self).__init__()\n",
        "        self.xlm_roberta = XLMRobertaModel.from_pretrained(model_name)\n",
        "        self.dropout = nn.Dropout(0.1)\n",
        "\n",
        "        # For binary classification, output 2 logits (for class 0 and 1)\n",
        "        self.fc = nn.Linear(self.xlm_roberta.config.hidden_size, num_classes)\n",
        "\n",
        "    def forward(self, input_ids, attention_mask):\n",
        "        outputs = self.xlm_roberta(input_ids=input_ids, attention_mask=attention_mask)\n",
        "\n",
        "        # Extract the [CLS] token representation\n",
        "        pooled_output = outputs[0][:, 0, :]\n",
        "\n",
        "        # Apply dropout and fully connected layer\n",
        "        x = self.dropout(pooled_output)\n",
        "        logits = self.fc(x)\n",
        "\n",
        "        return logits\n"
      ],
      "metadata": {
        "id": "Kr38uiiRqtdf"
      },
      "execution_count": null,
      "outputs": []
    },
    {
      "cell_type": "markdown",
      "source": [
        "# Training"
      ],
      "metadata": {
        "id": "yuUHN2E5rPvg"
      }
    },
    {
      "cell_type": "code",
      "source": [
        "\n",
        "# Initialize the model\n",
        "model = XLMRClassifier(model_name='xlm-roberta-base', num_classes=2)\n",
        "\n",
        "# Define the optimizer and loss function\n",
        "optimizer = torch.optim.AdamW(model.parameters(), lr=0.00001)\n",
        "criterion = torch.nn.CrossEntropyLoss()  # For classification tasks\n"
      ],
      "metadata": {
        "id": "xvo7-rkDrDJ1",
        "colab": {
          "base_uri": "https://localhost:8080/",
          "height": 49,
          "referenced_widgets": [
            "81155058e57d4defa33bcf11b2835f96",
            "88eeebbbf4b64ce894df35c700cdf6ab",
            "da54e0e331554ae68429b1382f9d33f8",
            "5619fb9427944b1e8f63db8af2ed1236",
            "54fa04584f1e4bdf9053f8788332c657",
            "0b07908f3c14403194f7d5c3060b865f",
            "43a05145f83c4294bc88cc49438533e4",
            "b661491462994ce68087b910a7bb74b9",
            "cc05d8f9b66547f8b661c130024a63eb",
            "b74856eb29574c3386f7013f32e841cb",
            "0f2f4c69eec84b7f9045422fc99036ba"
          ]
        },
        "outputId": "e96dd7e1-1e70-4fbc-e9f1-63fe53c775ff"
      },
      "execution_count": null,
      "outputs": [
        {
          "output_type": "display_data",
          "data": {
            "text/plain": [
              "model.safetensors:   0%|          | 0.00/1.12G [00:00<?, ?B/s]"
            ],
            "application/vnd.jupyter.widget-view+json": {
              "version_major": 2,
              "version_minor": 0,
              "model_id": "81155058e57d4defa33bcf11b2835f96"
            }
          },
          "metadata": {}
        }
      ]
    },
    {
      "cell_type": "code",
      "source": [
        "# Initialize a list to store loss history\n",
        "loss_history = []\n",
        "device = torch.device(\"cuda\" if torch.cuda.is_available() else \"cpu\")\n",
        "model.to(device)\n",
        "# Training loop\n",
        "epochs = 10\n",
        "for epoch in range(epochs):\n",
        "    model.train()  # Set the model to training mode\n",
        "    running_loss = 0.0\n",
        "\n",
        "    # tqdm for showing the progress bar\n",
        "    for batch in tqdm(train_data_loader, desc=f\"Epoch {epoch + 1}/{epochs}\"):\n",
        "        optimizer.zero_grad()\n",
        "\n",
        "        # Get input and output from the batch\n",
        "        input_ids = batch['input_ids'].to(device)\n",
        "        attention_mask = batch['attention_mask'].to(device)\n",
        "        labels = batch['label'].to(device)\n",
        "\n",
        "        # Forward pass\n",
        "        outputs = model(input_ids=input_ids, attention_mask=attention_mask)\n",
        "\n",
        "        # Get logits (the first element of the tuple)\n",
        "        logits = outputs\n",
        "\n",
        "        # Compute loss\n",
        "        loss = criterion(logits, labels)\n",
        "\n",
        "        # Backpropagation\n",
        "        loss.backward()\n",
        "\n",
        "        # Update parameters\n",
        "        optimizer.step()\n",
        "\n",
        "        running_loss += loss.item()\n",
        "\n",
        "    # Compute the average loss for this epoch\n",
        "    epoch_loss = running_loss / len(train_data_loader)\n",
        "    loss_history.append(epoch_loss)  # Save the loss for this epoch\n",
        "    print(f\"Epoch {epoch + 1}/{epochs}, Loss: {epoch_loss:.4f}\")"
      ],
      "metadata": {
        "colab": {
          "base_uri": "https://localhost:8080/"
        },
        "id": "NAHH77HurT1o",
        "outputId": "427c5750-6c4a-4553-b243-d2785aeba588"
      },
      "execution_count": null,
      "outputs": [
        {
          "output_type": "stream",
          "name": "stderr",
          "text": [
            "Epoch 1/10: 100%|██████████| 56/56 [00:24<00:00,  2.31it/s]\n"
          ]
        },
        {
          "output_type": "stream",
          "name": "stdout",
          "text": [
            "Epoch 1/10, Loss: 0.7521\n"
          ]
        },
        {
          "output_type": "stream",
          "name": "stderr",
          "text": [
            "Epoch 2/10: 100%|██████████| 56/56 [00:22<00:00,  2.55it/s]\n"
          ]
        },
        {
          "output_type": "stream",
          "name": "stdout",
          "text": [
            "Epoch 2/10, Loss: 0.7214\n"
          ]
        },
        {
          "output_type": "stream",
          "name": "stderr",
          "text": [
            "Epoch 3/10: 100%|██████████| 56/56 [00:22<00:00,  2.46it/s]\n"
          ]
        },
        {
          "output_type": "stream",
          "name": "stdout",
          "text": [
            "Epoch 3/10, Loss: 0.6855\n"
          ]
        },
        {
          "output_type": "stream",
          "name": "stderr",
          "text": [
            "Epoch 4/10: 100%|██████████| 56/56 [00:23<00:00,  2.42it/s]\n"
          ]
        },
        {
          "output_type": "stream",
          "name": "stdout",
          "text": [
            "Epoch 4/10, Loss: 0.5907\n"
          ]
        },
        {
          "output_type": "stream",
          "name": "stderr",
          "text": [
            "Epoch 5/10: 100%|██████████| 56/56 [00:22<00:00,  2.44it/s]\n"
          ]
        },
        {
          "output_type": "stream",
          "name": "stdout",
          "text": [
            "Epoch 5/10, Loss: 0.5687\n"
          ]
        },
        {
          "output_type": "stream",
          "name": "stderr",
          "text": [
            "Epoch 6/10: 100%|██████████| 56/56 [00:22<00:00,  2.47it/s]\n"
          ]
        },
        {
          "output_type": "stream",
          "name": "stdout",
          "text": [
            "Epoch 6/10, Loss: 0.4943\n"
          ]
        },
        {
          "output_type": "stream",
          "name": "stderr",
          "text": [
            "Epoch 7/10: 100%|██████████| 56/56 [00:22<00:00,  2.47it/s]\n"
          ]
        },
        {
          "output_type": "stream",
          "name": "stdout",
          "text": [
            "Epoch 7/10, Loss: 0.4436\n"
          ]
        },
        {
          "output_type": "stream",
          "name": "stderr",
          "text": [
            "Epoch 8/10: 100%|██████████| 56/56 [00:22<00:00,  2.46it/s]\n"
          ]
        },
        {
          "output_type": "stream",
          "name": "stdout",
          "text": [
            "Epoch 8/10, Loss: 0.3980\n"
          ]
        },
        {
          "output_type": "stream",
          "name": "stderr",
          "text": [
            "Epoch 9/10: 100%|██████████| 56/56 [00:22<00:00,  2.47it/s]\n"
          ]
        },
        {
          "output_type": "stream",
          "name": "stdout",
          "text": [
            "Epoch 9/10, Loss: 0.4157\n"
          ]
        },
        {
          "output_type": "stream",
          "name": "stderr",
          "text": [
            "Epoch 10/10: 100%|██████████| 56/56 [00:22<00:00,  2.47it/s]"
          ]
        },
        {
          "output_type": "stream",
          "name": "stdout",
          "text": [
            "Epoch 10/10, Loss: 0.4151\n"
          ]
        },
        {
          "output_type": "stream",
          "name": "stderr",
          "text": [
            "\n"
          ]
        }
      ]
    },
    {
      "cell_type": "code",
      "source": [
        "# Plot the loss history\n",
        "plt.figure(figsize=(8, 6))\n",
        "plt.plot(range(1, epochs + 1), loss_history, marker='o', label='Training Loss')\n",
        "plt.xlabel('Epoch')\n",
        "plt.ylabel('Loss')\n",
        "plt.title('Loss History During Training')\n",
        "plt.legend()\n",
        "plt.grid(True)\n",
        "plt.show()"
      ],
      "metadata": {
        "colab": {
          "base_uri": "https://localhost:8080/",
          "height": 564
        },
        "id": "0tfm-20xNWUp",
        "outputId": "cef70855-f6c0-4460-e5ff-0abe8e99e3ba"
      },
      "execution_count": null,
      "outputs": [
        {
          "output_type": "display_data",
          "data": {
            "text/plain": [
              "<Figure size 800x600 with 1 Axes>"
            ],
            "image/png": "[encoded data removed]"
          },
          "metadata": {}
        }
      ]
    },
    {
      "cell_type": "code",
      "source": [
        "# Set model to evaluation mode\n",
        "model.eval()\n",
        "\n",
        "# Lists to store predictions and true labels\n",
        "all_preds = []\n",
        "all_labels = []\n",
        "\n",
        "# Disable gradient computation for evaluation\n",
        "with torch.no_grad():\n",
        "    for batch in val_data_loader:\n",
        "        # Send inputs and labels to the device (GPU/CPU)\n",
        "        input_ids = batch['input_ids'].to(device)\n",
        "        attention_mask = batch['attention_mask'].to(device)\n",
        "        labels = batch['label'].to(device)\n",
        "\n",
        "        # Forward pass through the model\n",
        "        outputs = model(input_ids=input_ids, attention_mask=attention_mask)\n",
        "\n",
        "        # Extract logits and compute predictions\n",
        "        logits = outputs\n",
        "        _, preds = torch.max(logits, dim=1)\n",
        "\n",
        "        # Store predictions and true labels\n",
        "        all_preds.extend(preds.cpu().numpy())\n",
        "        all_labels.extend(labels.cpu().numpy())\n",
        "\n",
        "# Print the classification report\n",
        "print(\"Classification Report:\")\n",
        "print(classification_report(all_labels, all_preds))\n",
        "\n",
        "# Print the confusion matrix\n",
        "print(\"Confusion Matrix:\")\n",
        "print(confusion_matrix(all_labels, all_preds))\n",
        "\n",
        "# Visualization of the confusion matrix\n",
        "cm = confusion_matrix(all_labels, all_preds)\n",
        "sns.heatmap(cm, annot=True, fmt=\"d\", cmap=\"Blues\", xticklabels=['Class 0', 'Class 1'], yticklabels=['Class 0', 'Class 1'])\n",
        "plt.xlabel('Predicted')\n",
        "plt.ylabel('True')\n",
        "plt.title('Confusion Matrix')\n",
        "plt.show()"
      ],
      "metadata": {
        "colab": {
          "base_uri": "https://localhost:8080/",
          "height": 697
        },
        "id": "Um9ccuyjs5IY",
        "outputId": "36325951-32c3-46f1-e54b-81d8c3e0e556"
      },
      "execution_count": null,
      "outputs": [
        {
          "output_type": "stream",
          "name": "stdout",
          "text": [
            "Classification Report:\n",
            "              precision    recall  f1-score   support\n",
            "\n",
            "           0       0.70      0.52      0.59       110\n",
            "           1       0.62      0.78      0.69       113\n",
            "\n",
            "    accuracy                           0.65       223\n",
            "   macro avg       0.66      0.65      0.64       223\n",
            "weighted avg       0.66      0.65      0.64       223\n",
            "\n",
            "Confusion Matrix:\n",
            "[[57 53]\n",
            " [25 88]]\n"
          ]
        },
        {
          "output_type": "display_data",
          "data": {
            "text/plain": [
              "<Figure size 640x480 with 2 Axes>"
            ],
            "image/png": "[encoded data removed]"
          },
          "metadata": {}
        }
      ]
    },
    {
      "cell_type": "code",
      "source": [
        "from sklearn.metrics import roc_curve, auc, precision_recall_curve\n",
        "import matplotlib.pyplot as plt\n",
        "\n",
        "# Extract probabilities for the positive class (class 1)\n",
        "all_probs = []\n",
        "\n",
        "# Disable gradient computation for evaluation\n",
        "with torch.no_grad():\n",
        "    for batch in val_data_loader:\n",
        "        input_ids = batch['input_ids'].to(device)\n",
        "        attention_mask = batch['attention_mask'].to(device)\n",
        "        labels = batch['label'].to(device)\n",
        "\n",
        "        # Forward pass through the model\n",
        "        outputs = model(input_ids=input_ids, attention_mask=attention_mask)\n",
        "\n",
        "        logits = outputs\n",
        "        probs = torch.softmax(logits, dim=1)  # Convert logits to probabilities\n",
        "        all_probs.extend(probs.cpu().numpy()[:, 1])  # Get probabilities for class 1\n",
        "\n",
        "# AUC Calculation\n",
        "fpr, tpr, _ = roc_curve(all_labels, all_probs)\n",
        "roc_auc = auc(fpr, tpr)\n",
        "\n",
        "# Plot ROC Curve\n",
        "plt.figure(figsize=(8, 6))\n",
        "plt.plot(fpr, tpr, color='blue', lw=2, label=f'ROC curve (AUC = {roc_auc:.4f})')\n",
        "plt.plot([0, 1], [0, 1], color='gray', linestyle='--')\n",
        "plt.xlabel('False Positive Rate')\n",
        "plt.ylabel('True Positive Rate')\n",
        "plt.title('Receiver Operating Characteristic (ROC) Curve')\n",
        "plt.legend(loc=\"lower right\")\n",
        "plt.show()\n",
        "\n",
        "# Precision-Recall Curve\n",
        "precision, recall, _ = precision_recall_curve(all_labels, all_probs)\n",
        "\n",
        "# Plot Precision-Recall Curve\n",
        "plt.figure(figsize=(8, 6))\n",
        "plt.plot(recall, precision, color='blue', lw=2)\n",
        "plt.xlabel('Recall')\n",
        "plt.ylabel('Precision')\n",
        "plt.title('Precision-Recall Curve')\n",
        "plt.show()\n",
        "\n",
        "# Print AUC score\n",
        "print(f\"AUC: {roc_auc:.4f}\")"
      ],
      "metadata": {
        "colab": {
          "base_uri": "https://localhost:8080/",
          "height": 1000
        },
        "id": "g7hqTy6cvF67",
        "outputId": "0939d4f2-0163-445a-f7dd-878503898431"
      },
      "execution_count": null,
      "outputs": [
        {
          "output_type": "display_data",
          "data": {
            "text/plain": [
              "<Figure size 800x600 with 1 Axes>"
            ],
            "image/png": "[encoded data removed]"
          },
          "metadata": {}
        },
        {
          "output_type": "display_data",
          "data": {
            "text/plain": [
              "<Figure size 800x600 with 1 Axes>"
            ],
            "image/png": "[encoded data removed]"
          },
          "metadata": {}
        },
        {
          "output_type": "stream",
          "name": "stdout",
          "text": [
            "AUC: 0.7842\n"
          ]
        }
      ]
    },
    {
      "cell_type": "code",
      "source": [
        "from sklearn.metrics import matthews_corrcoef\n",
        "mcc = matthews_corrcoef(all_labels, all_preds)\n",
        "print(f\"MCC: {mcc:.4f}\")\n"
      ],
      "metadata": {
        "id": "q70lNOvvyM6t",
        "outputId": "3dd7bcd3-247f-4922-94a9-af42873d5b7c",
        "colab": {
          "base_uri": "https://localhost:8080/"
        }
      },
      "execution_count": null,
      "outputs": [
        {
          "output_type": "stream",
          "name": "stdout",
          "text": [
            "MCC: 0.6046\n"
          ]
        }
      ]
    },
    {
      "cell_type": "code",
      "source": [
        "# Save the entire model\n",
        "model_save_path = \"xlmr_sentiment_model_full.pth\"\n",
        "torch.save(model, model_save_path)\n",
        "print(f\"Model saved to {model_save_path}\")\n"
      ],
      "metadata": {
        "colab": {
          "base_uri": "https://localhost:8080/"
        },
        "id": "ZJ-3RCjodJju",
        "outputId": "e94b5b89-cf39-4135-e203-2d479b939a9a"
      },
      "execution_count": null,
      "outputs": [
        {
          "output_type": "stream",
          "name": "stdout",
          "text": [
            "Model saved to xlmr_sentiment_model_full.pth\n"
          ]
        }
      ]
    },
    {
      "cell_type": "code",
      "source": [],
      "metadata": {
        "id": "pGoATG6y-wV3"
      },
      "execution_count": null,
      "outputs": []
    }
  ]
}